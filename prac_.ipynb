{
  "nbformat": 4,
  "nbformat_minor": 0,
  "metadata": {
    "colab": {
      "provenance": [],
      "authorship_tag": "ABX9TyO04Za19MX/2sbQxav79oi3",
      "include_colab_link": true
    },
    "kernelspec": {
      "name": "python3",
      "display_name": "Python 3"
    },
    "language_info": {
      "name": "python"
    }
  },
  "cells": [
    {
      "cell_type": "markdown",
      "metadata": {
        "id": "view-in-github",
        "colab_type": "text"
      },
      "source": [
        "<a href=\"https://colab.research.google.com/github/asdfasdf0311/kaggle-1/blob/main/prac_.ipynb\" target=\"_parent\"><img src=\"https://colab.research.google.com/assets/colab-badge.svg\" alt=\"Open In Colab\"/></a>"
      ]
    },
    {
      "cell_type": "code",
      "execution_count": null,
      "metadata": {
        "id": "vu5jvO9KUdyY"
      },
      "outputs": [],
      "source": [
        "import numpy as np\n",
        "import pandas as pd\n",
        "import matplotlib.pyplot as plt\n",
        "import seaborn as sns"
      ]
    },
    {
      "cell_type": "code",
      "source": [
        "#데이터 경로 설정\n",
        "from google.colab import drive\n",
        "drive.mount('/content/drive')"
      ],
      "metadata": {
        "colab": {
          "base_uri": "https://localhost:8080/"
        },
        "id": "GrKw8_5rUoFY",
        "outputId": "3978375c-1833-4906-adf8-445d98713b6b"
      },
      "execution_count": null,
      "outputs": [
        {
          "output_type": "stream",
          "name": "stdout",
          "text": [
            "Mounted at /content/drive\n"
          ]
        }
      ]
    },
    {
      "cell_type": "code",
      "source": [
        "#데이터로드\n",
        "train = pd.read_csv('/content/drive/MyDrive/ydms/titanic/train.csv')\n",
        "test = pd.read_csv('/content/drive/MyDrive/ydms/titanic/test.csv')\n",
        "survived = pd.read_csv('/content/drive/MyDrive/ydms/titanic/gender_submission.csv')"
      ],
      "metadata": {
        "id": "BkomL6STUprC"
      },
      "execution_count": null,
      "outputs": []
    },
    {
      "cell_type": "code",
      "source": [
        "#변수 속성 및 결측치 확인\n",
        "train.info()"
      ],
      "metadata": {
        "colab": {
          "base_uri": "https://localhost:8080/"
        },
        "id": "IOfB0GjWVQaf",
        "outputId": "7b73a5e3-f8bb-4b5a-a812-1a049c98656a"
      },
      "execution_count": null,
      "outputs": [
        {
          "output_type": "stream",
          "name": "stdout",
          "text": [
            "<class 'pandas.core.frame.DataFrame'>\n",
            "RangeIndex: 891 entries, 0 to 890\n",
            "Data columns (total 12 columns):\n",
            " #   Column       Non-Null Count  Dtype  \n",
            "---  ------       --------------  -----  \n",
            " 0   PassengerId  891 non-null    int64  \n",
            " 1   Survived     891 non-null    int64  \n",
            " 2   Pclass       891 non-null    int64  \n",
            " 3   Name         891 non-null    object \n",
            " 4   Sex          891 non-null    object \n",
            " 5   Age          714 non-null    float64\n",
            " 6   SibSp        891 non-null    int64  \n",
            " 7   Parch        891 non-null    int64  \n",
            " 8   Ticket       891 non-null    object \n",
            " 9   Fare         891 non-null    float64\n",
            " 10  Cabin        204 non-null    object \n",
            " 11  Embarked     889 non-null    object \n",
            "dtypes: float64(2), int64(5), object(5)\n",
            "memory usage: 83.7+ KB\n"
          ]
        }
      ]
    },
    {
      "cell_type": "markdown",
      "source": [
        "- 12개의 변수\n",
        "- 총 891개의 데이터\n",
        "- Age: 177건의 결측치, Cabin: 687건의 결측치, Embarked: 2건의 결측치"
      ],
      "metadata": {
        "id": "GRUU3Lq0VOct"
      }
    },
    {
      "cell_type": "markdown",
      "source": [
        "# **1. 결측치 처리**"
      ],
      "metadata": {
        "id": "96OvbDcdW89h"
      }
    },
    {
      "cell_type": "markdown",
      "source": [
        "# **1.1 Embarked 변수**"
      ],
      "metadata": {
        "id": "ar58dbOn42nb"
      }
    },
    {
      "cell_type": "code",
      "source": [
        "train['Embarked'].value_counts().plot.pie(explode=[0,0,0.1], autopct='%1.1f%%',shadow=True)"
      ],
      "metadata": {
        "colab": {
          "base_uri": "https://localhost:8080/",
          "height": 425
        },
        "id": "t2xHp5ncVrCa",
        "outputId": "fe97912d-da5c-4aa1-f793-db119a6dc927"
      },
      "execution_count": null,
      "outputs": [
        {
          "output_type": "execute_result",
          "data": {
            "text/plain": [
              "<Axes: ylabel='Embarked'>"
            ]
          },
          "metadata": {},
          "execution_count": 6
        },
        {
          "output_type": "display_data",
          "data": {
            "text/plain": [
              "<Figure size 640x480 with 1 Axes>"
            ],
            "image/png": "[encoded data removed]"
          },
          "metadata": {}
        }
      ]
    },
    {
      "cell_type": "markdown",
      "source": [
        "Embarked 변수는 최빈값으로 결측치를 채우도록 하겠다."
      ],
      "metadata": {
        "id": "Iest6bPoWR3S"
      }
    },
    {
      "cell_type": "code",
      "source": [
        "train['Embarked'] = train['Embarked'].fillna(train['Embarked'].mode()[0])"
      ],
      "metadata": {
        "id": "l4uRMR8BWh_2"
      },
      "execution_count": null,
      "outputs": []
    },
    {
      "cell_type": "code",
      "source": [
        "train['Embarked'].isnull().sum()"
      ],
      "metadata": {
        "colab": {
          "base_uri": "https://localhost:8080/"
        },
        "id": "wrYuCXv1XIKz",
        "outputId": "67a6806a-5e65-4d70-c4fa-1d5ac1137209"
      },
      "execution_count": null,
      "outputs": [
        {
          "output_type": "execute_result",
          "data": {
            "text/plain": [
              "0"
            ]
          },
          "metadata": {},
          "execution_count": 8
        }
      ]
    },
    {
      "cell_type": "markdown",
      "source": [
        "# **1.2 Age변수** - 177개결측치"
      ],
      "metadata": {
        "id": "zcBAjGchXfo1"
      }
    },
    {
      "cell_type": "code",
      "source": [
        "round(train['Age'].describe(),2)"
      ],
      "metadata": {
        "colab": {
          "base_uri": "https://localhost:8080/"
        },
        "id": "NmAypn0SYEHZ",
        "outputId": "274df544-29f4-485b-c961-ebd233d916f0"
      },
      "execution_count": null,
      "outputs": [
        {
          "output_type": "execute_result",
          "data": {
            "text/plain": [
              "count    714.00\n",
              "mean      29.70\n",
              "std       14.53\n",
              "min        0.42\n",
              "25%       20.12\n",
              "50%       28.00\n",
              "75%       38.00\n",
              "max       80.00\n",
              "Name: Age, dtype: float64"
            ]
          },
          "metadata": {},
          "execution_count": 9
        }
      ]
    },
    {
      "cell_type": "code",
      "source": [
        "sns.boxplot(x=train['Age'])"
      ],
      "metadata": {
        "colab": {
          "base_uri": "https://localhost:8080/",
          "height": 468
        },
        "id": "q_Dlk0KOXfPi",
        "outputId": "831dea51-9da0-4341-eb4c-63aee75bad32"
      },
      "execution_count": null,
      "outputs": [
        {
          "output_type": "execute_result",
          "data": {
            "text/plain": [
              "<Axes: xlabel='Age'>"
            ]
          },
          "metadata": {},
          "execution_count": 10
        },
        {
          "output_type": "display_data",
          "data": {
            "text/plain": [
              "<Figure size 640x480 with 1 Axes>"
            ],
            "image/png": "[encoded data removed]"
          },
          "metadata": {}
        }
      ]
    },
    {
      "cell_type": "markdown",
      "source": [
        "이상치는 존재하지 않는다.\n",
        "\n",
        "**나이의 결측값 대체는 다른 변수들과의 영향을 고려하여 할당을 해주어야 할 것으로 보인다.**"
      ],
      "metadata": {
        "id": "mMutvy9Jatl-"
      }
    },
    {
      "cell_type": "markdown",
      "source": [
        "나의 생각 : Pclass, 성별, 생존율을 이용해서 파생변수 생성 후, 그에 맞는 평균나이로 대체"
      ],
      "metadata": {
        "id": "KlF2IH2e47e-"
      }
    },
    {
      "cell_type": "code",
      "source": [
        "train['agemean'] = np.where(\n",
        "    (train['Pclass'] == 1) & (train['Survived'] == 1) & (train['Sex'] == 'male') & (train['Age'].isnull()), 1,\n",
        "    np.where(\n",
        "        (train['Pclass'] == 1) & (train['Survived'] == 0) & (train['Sex'] == 'male') & (train['Age'].isnull()), 2,\n",
        "        np.where(\n",
        "            (train['Pclass'] == 2) & (train['Survived'] == 1) & (train['Sex'] == 'male') & (train['Age'].isnull()), 3,\n",
        "            np.where(\n",
        "                (train['Pclass'] == 2) & (train['Survived'] == 0) & (train['Sex'] == 'male') & (train['Age'].isnull()), 4,\n",
        "                np.where(\n",
        "                    (train['Pclass'] == 3) & (train['Survived'] == 1) & (train['Sex'] == 'male') & (train['Age'].isnull()), 5,\n",
        "                    np.where(\n",
        "                        (train['Pclass'] == 3) & (train['Survived'] == 0) & (train['Sex'] == 'male') & (train['Age'].isnull()), 6,\n",
        "                        np.where(\n",
        "                            (train['Pclass'] == 1) & (train['Survived'] == 1) & (train['Sex'] == 'female') & (train['Age'].isnull()), 11,\n",
        "                            np.where(\n",
        "                                (train['Pclass'] == 1) & (train['Survived'] == 0) & (train['Sex'] == 'female') & (train['Age'].isnull()), 22,\n",
        "                                np.where(\n",
        "                                    (train['Pclass'] == 2) & (train['Survived'] == 1) & (train['Sex'] == 'female') & (train['Age'].isnull()), 33,\n",
        "                                    np.where(\n",
        "                                        (train['Pclass'] == 2) & (train['Survived'] == 0) & (train['Sex'] == 'female') & (train['Age'].isnull()), 44,\n",
        "                                        np.where(\n",
        "                                            (train['Pclass'] == 3) & (train['Survived'] == 1) & (train['Sex'] == 'female') & (train['Age'].isnull()), 55,\n",
        "                                            np.where(\n",
        "                                                (train['Pclass'] == 3) & (train['Survived'] == 0) & (train['Sex'] == 'female') & (train['Age'].isnull()), 66, 0\n",
        "                                            )\n",
        "                                        )\n",
        "                                    )\n",
        "                                )\n",
        "                            )\n",
        "                        )\n",
        "                    )\n",
        "                )\n",
        "            )\n",
        "        )\n",
        "    )\n",
        ")"
      ],
      "metadata": {
        "id": "3l0Q-BBa4uo2"
      },
      "execution_count": null,
      "outputs": []
    },
    {
      "cell_type": "code",
      "source": [
        "cnt = train['agemean'].value_counts()\n",
        "pd.DataFrame(cnt)"
      ],
      "metadata": {
        "colab": {
          "base_uri": "https://localhost:8080/",
          "height": 394
        },
        "id": "ufj8AOpGGgaz",
        "outputId": "95d625a1-072c-4956-9caa-8a99b9caa9ad"
      },
      "execution_count": null,
      "outputs": [
        {
          "output_type": "execute_result",
          "data": {
            "text/plain": [
              "    agemean\n",
              "0       714\n",
              "6        85\n",
              "55       25\n",
              "66       17\n",
              "2        16\n",
              "11        9\n",
              "5         9\n",
              "4         7\n",
              "1         5\n",
              "3         2\n",
              "33        2"
            ],
            "text/html": [
              "\n",
              "  <div id=\"df-593c4fb4-e060-411c-9c77-1e5bc87fc440\" class=\"colab-df-container\">\n",
              "    <div>\n",
              "<style scoped>\n",
              "    .dataframe tbody tr th:only-of-type {\n",
              "        vertical-align: middle;\n",
              "    }\n",
              "\n",
              "    .dataframe tbody tr th {\n",
              "        vertical-align: top;\n",
              "    }\n",
              "\n",
              "    .dataframe thead th {\n",
              "        text-align: right;\n",
              "    }\n",
              "</style>\n",
              "<table border=\"1\" class=\"dataframe\">\n",
              "  <thead>\n",
              "    <tr style=\"text-align: right;\">\n",
              "      <th></th>\n",
              "      <th>agemean</th>\n",
              "    </tr>\n",
              "  </thead>\n",
              "  <tbody>\n",
              "    <tr>\n",
              "      <th>0</th>\n",
              "      <td>714</td>\n",
              "    </tr>\n",
              "    <tr>\n",
              "      <th>6</th>\n",
              "      <td>85</td>\n",
              "    </tr>\n",
              "    <tr>\n",
              "      <th>55</th>\n",
              "      <td>25</td>\n",
              "    </tr>\n",
              "    <tr>\n",
              "      <th>66</th>\n",
              "      <td>17</td>\n",
              "    </tr>\n",
              "    <tr>\n",
              "      <th>2</th>\n",
              "      <td>16</td>\n",
              "    </tr>\n",
              "    <tr>\n",
              "      <th>11</th>\n",
              "      <td>9</td>\n",
              "    </tr>\n",
              "    <tr>\n",
              "      <th>5</th>\n",
              "      <td>9</td>\n",
              "    </tr>\n",
              "    <tr>\n",
              "      <th>4</th>\n",
              "      <td>7</td>\n",
              "    </tr>\n",
              "    <tr>\n",
              "      <th>1</th>\n",
              "      <td>5</td>\n",
              "    </tr>\n",
              "    <tr>\n",
              "      <th>3</th>\n",
              "      <td>2</td>\n",
              "    </tr>\n",
              "    <tr>\n",
              "      <th>33</th>\n",
              "      <td>2</td>\n",
              "    </tr>\n",
              "  </tbody>\n",
              "</table>\n",
              "</div>\n",
              "    <div class=\"colab-df-buttons\">\n",
              "\n",
              "  <div class=\"colab-df-container\">\n",
              "    <button class=\"colab-df-convert\" onclick=\"convertToInteractive('df-593c4fb4-e060-411c-9c77-1e5bc87fc440')\"\n",
              "            title=\"Convert this dataframe to an interactive table.\"\n",
              "            style=\"display:none;\">\n",
              "\n",
              "  <svg xmlns=\"http://www.w3.org/2000/svg\" height=\"24px\" viewBox=\"0 -960 960 960\">\n",
              "    <path d=\"M120-120v-720h720v720H120Zm60-500h600v-160H180v160Zm220 220h160v-160H400v160Zm0 220h160v-160H400v160ZM180-400h160v-160H180v160Zm440 0h160v-160H620v160ZM180-180h160v-160H180v160Zm440 0h160v-160H620v160Z\"/>\n",
              "  </svg>\n",
              "    </button>\n",
              "\n",
              "  <style>\n",
              "    .colab-df-container {\n",
              "      display:flex;\n",
              "      gap: 12px;\n",
              "    }\n",
              "\n",
              "    .colab-df-convert {\n",
              "      background-color: #E8F0FE;\n",
              "      border: none;\n",
              "      border-radius: 50%;\n",
              "      cursor: pointer;\n",
              "      display: none;\n",
              "      fill: #1967D2;\n",
              "      height: 32px;\n",
              "      padding: 0 0 0 0;\n",
              "      width: 32px;\n",
              "    }\n",
              "\n",
              "    .colab-df-convert:hover {\n",
              "      background-color: #E2EBFA;\n",
              "      box-shadow: 0px 1px 2px rgba(60, 64, 67, 0.3), 0px 1px 3px 1px rgba(60, 64, 67, 0.15);\n",
              "      fill: #174EA6;\n",
              "    }\n",
              "\n",
              "    .colab-df-buttons div {\n",
              "      margin-bottom: 4px;\n",
              "    }\n",
              "\n",
              "    [theme=dark] .colab-df-convert {\n",
              "      background-color: #3B4455;\n",
              "      fill: #D2E3FC;\n",
              "    }\n",
              "\n",
              "    [theme=dark] .colab-df-convert:hover {\n",
              "      background-color: #434B5C;\n",
              "      box-shadow: 0px 1px 3px 1px rgba(0, 0, 0, 0.15);\n",
              "      filter: drop-shadow(0px 1px 2px rgba(0, 0, 0, 0.3));\n",
              "      fill: #FFFFFF;\n",
              "    }\n",
              "  </style>\n",
              "\n",
              "    <script>\n",
              "      const buttonEl =\n",
              "        document.querySelector('#df-593c4fb4-e060-411c-9c77-1e5bc87fc440 button.colab-df-convert');\n",
              "      buttonEl.style.display =\n",
              "        google.colab.kernel.accessAllowed ? 'block' : 'none';\n",
              "\n",
              "      async function convertToInteractive(key) {\n",
              "        const element = document.querySelector('#df-593c4fb4-e060-411c-9c77-1e5bc87fc440');\n",
              "        const dataTable =\n",
              "          await google.colab.kernel.invokeFunction('convertToInteractive',\n",
              "                                                    [key], {});\n",
              "        if (!dataTable) return;\n",
              "\n",
              "        const docLinkHtml = 'Like what you see? Visit the ' +\n",
              "          '<a target=\"_blank\" href=https://colab.research.google.com/notebooks/data_table.ipynb>data table notebook</a>'\n",
              "          + ' to learn more about interactive tables.';\n",
              "        element.innerHTML = '';\n",
              "        dataTable['output_type'] = 'display_data';\n",
              "        await google.colab.output.renderOutput(dataTable, element);\n",
              "        const docLink = document.createElement('div');\n",
              "        docLink.innerHTML = docLinkHtml;\n",
              "        element.appendChild(docLink);\n",
              "      }\n",
              "    </script>\n",
              "  </div>\n",
              "\n",
              "\n",
              "<div id=\"df-053e2241-808e-4cae-8fe6-c0ece03991a6\">\n",
              "  <button class=\"colab-df-quickchart\" onclick=\"quickchart('df-053e2241-808e-4cae-8fe6-c0ece03991a6')\"\n",
              "            title=\"Suggest charts\"\n",
              "            style=\"display:none;\">\n",
              "\n",
              "<svg xmlns=\"http://www.w3.org/2000/svg\" height=\"24px\"viewBox=\"0 0 24 24\"\n",
              "     width=\"24px\">\n",
              "    <g>\n",
              "        <path d=\"M19 3H5c-1.1 0-2 .9-2 2v14c0 1.1.9 2 2 2h14c1.1 0 2-.9 2-2V5c0-1.1-.9-2-2-2zM9 17H7v-7h2v7zm4 0h-2V7h2v10zm4 0h-2v-4h2v4z\"/>\n",
              "    </g>\n",
              "</svg>\n",
              "  </button>\n",
              "\n",
              "<style>\n",
              "  .colab-df-quickchart {\n",
              "      --bg-color: #E8F0FE;\n",
              "      --fill-color: #1967D2;\n",
              "      --hover-bg-color: #E2EBFA;\n",
              "      --hover-fill-color: #174EA6;\n",
              "      --disabled-fill-color: #AAA;\n",
              "      --disabled-bg-color: #DDD;\n",
              "  }\n",
              "\n",
              "  [theme=dark] .colab-df-quickchart {\n",
              "      --bg-color: #3B4455;\n",
              "      --fill-color: #D2E3FC;\n",
              "      --hover-bg-color: #434B5C;\n",
              "      --hover-fill-color: #FFFFFF;\n",
              "      --disabled-bg-color: #3B4455;\n",
              "      --disabled-fill-color: #666;\n",
              "  }\n",
              "\n",
              "  .colab-df-quickchart {\n",
              "    background-color: var(--bg-color);\n",
              "    border: none;\n",
              "    border-radius: 50%;\n",
              "    cursor: pointer;\n",
              "    display: none;\n",
              "    fill: var(--fill-color);\n",
              "    height: 32px;\n",
              "    padding: 0;\n",
              "    width: 32px;\n",
              "  }\n",
              "\n",
              "  .colab-df-quickchart:hover {\n",
              "    background-color: var(--hover-bg-color);\n",
              "    box-shadow: 0 1px 2px rgba(60, 64, 67, 0.3), 0 1px 3px 1px rgba(60, 64, 67, 0.15);\n",
              "    fill: var(--button-hover-fill-color);\n",
              "  }\n",
              "\n",
              "  .colab-df-quickchart-complete:disabled,\n",
              "  .colab-df-quickchart-complete:disabled:hover {\n",
              "    background-color: var(--disabled-bg-color);\n",
              "    fill: var(--disabled-fill-color);\n",
              "    box-shadow: none;\n",
              "  }\n",
              "\n",
              "  .colab-df-spinner {\n",
              "    border: 2px solid var(--fill-color);\n",
              "    border-color: transparent;\n",
              "    border-bottom-color: var(--fill-color);\n",
              "    animation:\n",
              "      spin 1s steps(1) infinite;\n",
              "  }\n",
              "\n",
              "  @keyframes spin {\n",
              "    0% {\n",
              "      border-color: transparent;\n",
              "      border-bottom-color: var(--fill-color);\n",
              "      border-left-color: var(--fill-color);\n",
              "    }\n",
              "    20% {\n",
              "      border-color: transparent;\n",
              "      border-left-color: var(--fill-color);\n",
              "      border-top-color: var(--fill-color);\n",
              "    }\n",
              "    30% {\n",
              "      border-color: transparent;\n",
              "      border-left-color: var(--fill-color);\n",
              "      border-top-color: var(--fill-color);\n",
              "      border-right-color: var(--fill-color);\n",
              "    }\n",
              "    40% {\n",
              "      border-color: transparent;\n",
              "      border-right-color: var(--fill-color);\n",
              "      border-top-color: var(--fill-color);\n",
              "    }\n",
              "    60% {\n",
              "      border-color: transparent;\n",
              "      border-right-color: var(--fill-color);\n",
              "    }\n",
              "    80% {\n",
              "      border-color: transparent;\n",
              "      border-right-color: var(--fill-color);\n",
              "      border-bottom-color: var(--fill-color);\n",
              "    }\n",
              "    90% {\n",
              "      border-color: transparent;\n",
              "      border-bottom-color: var(--fill-color);\n",
              "    }\n",
              "  }\n",
              "</style>\n",
              "\n",
              "  <script>\n",
              "    async function quickchart(key) {\n",
              "      const quickchartButtonEl =\n",
              "        document.querySelector('#' + key + ' button');\n",
              "      quickchartButtonEl.disabled = true;  // To prevent multiple clicks.\n",
              "      quickchartButtonEl.classList.add('colab-df-spinner');\n",
              "      try {\n",
              "        const charts = await google.colab.kernel.invokeFunction(\n",
              "            'suggestCharts', [key], {});\n",
              "      } catch (error) {\n",
              "        console.error('Error during call to suggestCharts:', error);\n",
              "      }\n",
              "      quickchartButtonEl.classList.remove('colab-df-spinner');\n",
              "      quickchartButtonEl.classList.add('colab-df-quickchart-complete');\n",
              "    }\n",
              "    (() => {\n",
              "      let quickchartButtonEl =\n",
              "        document.querySelector('#df-053e2241-808e-4cae-8fe6-c0ece03991a6 button');\n",
              "      quickchartButtonEl.style.display =\n",
              "        google.colab.kernel.accessAllowed ? 'block' : 'none';\n",
              "    })();\n",
              "  </script>\n",
              "</div>\n",
              "    </div>\n",
              "  </div>\n"
            ]
          },
          "metadata": {},
          "execution_count": 12
        }
      ]
    },
    {
      "cell_type": "markdown",
      "source": [
        "0(결측이 아닌 행)이 714개 인것으로 보아 잘 분류가 되었음을 알 수 있다."
      ],
      "metadata": {
        "id": "e0VFYz5O4jbe"
      }
    },
    {
      "cell_type": "code",
      "source": [
        "# agemean 값에 따라 Age 결측치 대체\n",
        "train['Age'] = np.where(train['agemean'] == 1, 31.5,\n",
        "                        np.where(train['agemean'] == 2, 40.0,\n",
        "                                 np.where(train['agemean'] == 3, 13.3,\n",
        "                                          np.where(train['agemean'] == 4, 28.7,\n",
        "                                                   np.where(train['agemean'] == 5, 17.9,\n",
        "                                                            np.where(train['agemean'] == 6, 22.9,\n",
        "                                                                     np.where(train['agemean'] == 11, 30.4,\n",
        "                                                                              np.where(train['agemean'] == 22, 23.3,\n",
        "                                                                                       np.where(train['agemean'] == 33, 23.7,\n",
        "                                                                                                np.where(train['agemean'] == 44, 30.0,\n",
        "                                                                                                         np.where(train['agemean'] == 55, 14.9,\n",
        "                                                                                                                  np.where(train['agemean'] == 66, 19.3, train['Age']))))))))))))"
      ],
      "metadata": {
        "id": "N0FM725DHC46"
      },
      "execution_count": null,
      "outputs": []
    },
    {
      "cell_type": "code",
      "source": [
        "train['Age'].tail()"
      ],
      "metadata": {
        "colab": {
          "base_uri": "https://localhost:8080/"
        },
        "id": "m2N55PEJICt3",
        "outputId": "98e9b2bd-fe2a-4ce3-8eb7-80dd7549ca33"
      },
      "execution_count": null,
      "outputs": [
        {
          "output_type": "execute_result",
          "data": {
            "text/plain": [
              "886    27.0\n",
              "887    19.0\n",
              "888    19.3\n",
              "889    26.0\n",
              "890    32.0\n",
              "Name: Age, dtype: float64"
            ]
          },
          "metadata": {},
          "execution_count": 84
        }
      ]
    },
    {
      "cell_type": "markdown",
      "source": [
        "888번행의Age는 결측치였는데, 그에 맞는 값(19,3)으로 잘 대체되었음을 알 수 있다."
      ],
      "metadata": {
        "id": "9xvAv3c7Iu3y"
      }
    },
    {
      "cell_type": "code",
      "source": [
        "train.info()"
      ],
      "metadata": {
        "colab": {
          "base_uri": "https://localhost:8080/"
        },
        "id": "gM60lR9QK2ze",
        "outputId": "491efd2f-c4c1-4110-819e-9c9a39866e02"
      },
      "execution_count": null,
      "outputs": [
        {
          "output_type": "stream",
          "name": "stdout",
          "text": [
            "<class 'pandas.core.frame.DataFrame'>\n",
            "RangeIndex: 891 entries, 0 to 890\n",
            "Data columns (total 13 columns):\n",
            " #   Column       Non-Null Count  Dtype  \n",
            "---  ------       --------------  -----  \n",
            " 0   PassengerId  891 non-null    int64  \n",
            " 1   Survived     891 non-null    int64  \n",
            " 2   Pclass       891 non-null    int64  \n",
            " 3   Name         891 non-null    object \n",
            " 4   Sex          891 non-null    object \n",
            " 5   Age          891 non-null    float64\n",
            " 6   SibSp        891 non-null    int64  \n",
            " 7   Parch        891 non-null    int64  \n",
            " 8   Ticket       891 non-null    object \n",
            " 9   Fare         891 non-null    float64\n",
            " 10  Cabin        204 non-null    object \n",
            " 11  Embarked     891 non-null    object \n",
            " 12  agemean      891 non-null    int64  \n",
            "dtypes: float64(2), int64(6), object(5)\n",
            "memory usage: 90.6+ KB\n"
          ]
        }
      ]
    },
    {
      "cell_type": "markdown",
      "source": [
        "이제 Cabin 변수 결측치만 처리하면 된다."
      ],
      "metadata": {
        "id": "O11Nc61BK5n3"
      }
    },
    {
      "cell_type": "markdown",
      "source": [
        "## **1.3 cabin 변수 -> 삭제**"
      ],
      "metadata": {
        "id": "o3nxSMLC4wpW"
      }
    },
    {
      "cell_type": "markdown",
      "source": [
        "Cabin 변수는 687건의 결측치를 가지고 있다.\n",
        "\n",
        "우선, cabin변수의 값들은 C53 이런식이므로 첫 알파벳만 따로 빼놓고 그걸로 생존율을 보도록 하겠다. (알파벳이 객실 위치를 나타내는 것일수도 있기 때문)"
      ],
      "metadata": {
        "id": "f60Gzv2IbBXl"
      }
    },
    {
      "cell_type": "code",
      "source": [
        "train2 = train\n",
        "train2['Cabin'] = train2['Cabin'].apply(lambda x: x[0] if pd.notnull(x) else x)"
      ],
      "metadata": {
        "id": "Q30reM2Da9DZ"
      },
      "execution_count": null,
      "outputs": []
    },
    {
      "cell_type": "code",
      "source": [
        "train2['Cabin']"
      ],
      "metadata": {
        "colab": {
          "base_uri": "https://localhost:8080/"
        },
        "id": "8_3bDB5Xb5M-",
        "outputId": "d6a2e69d-2d65-4e50-fea7-755c7cbaff2c"
      },
      "execution_count": null,
      "outputs": [
        {
          "output_type": "execute_result",
          "data": {
            "text/plain": [
              "0      NaN\n",
              "1        C\n",
              "2      NaN\n",
              "3        C\n",
              "4      NaN\n",
              "      ... \n",
              "886    NaN\n",
              "887      B\n",
              "888    NaN\n",
              "889      C\n",
              "890    NaN\n",
              "Name: Cabin, Length: 891, dtype: object"
            ]
          },
          "metadata": {},
          "execution_count": 87
        }
      ]
    },
    {
      "cell_type": "code",
      "source": [
        "cabin_counts = train2['Cabin'].value_counts()\n",
        "cabin_counts"
      ],
      "metadata": {
        "colab": {
          "base_uri": "https://localhost:8080/"
        },
        "id": "o2fXOAWuci1-",
        "outputId": "5c63f921-48ad-41f6-c4e5-ce574d9fabea"
      },
      "execution_count": null,
      "outputs": [
        {
          "output_type": "execute_result",
          "data": {
            "text/plain": [
              "C    59\n",
              "B    47\n",
              "D    33\n",
              "E    32\n",
              "A    15\n",
              "F    13\n",
              "G     4\n",
              "T     1\n",
              "Name: Cabin, dtype: int64"
            ]
          },
          "metadata": {},
          "execution_count": 88
        }
      ]
    },
    {
      "cell_type": "code",
      "source": [
        "#객실 번호별 생존유무비율\n",
        "survived_ratio_by_cabin = train2.groupby('Cabin')['Survived'].value_counts(normalize=True).unstack()\n",
        "survived_ratio_by_cabin.plot(kind='bar', stacked=True)"
      ],
      "metadata": {
        "colab": {
          "base_uri": "https://localhost:8080/",
          "height": 465
        },
        "id": "kSRaGi2-cIbB",
        "outputId": "1ce211dc-c299-4e93-8ae4-819703d8d812"
      },
      "execution_count": null,
      "outputs": [
        {
          "output_type": "execute_result",
          "data": {
            "text/plain": [
              "<Axes: xlabel='Cabin'>"
            ]
          },
          "metadata": {},
          "execution_count": 89
        },
        {
          "output_type": "display_data",
          "data": {
            "text/plain": [
              "<Figure size 640x480 with 1 Axes>"
            ],
            "image/png": "[encoded data removed]"
          },
          "metadata": {}
        }
      ]
    },
    {
      "cell_type": "markdown",
      "source": [
        "객실번호가 B,C,D인 사람들의 생존율이 높음을 볼 수 있다."
      ],
      "metadata": {
        "id": "wnXZZRgvcrkG"
      }
    },
    {
      "cell_type": "markdown",
      "source": [
        "사실 이 변수는 진짜 잘 모르겠다. 애초에 결측치도 너무 많고... 그냥 없애버려야겠다."
      ],
      "metadata": {
        "id": "SkC7xm7fPbRH"
      }
    },
    {
      "cell_type": "code",
      "source": [
        "train = train.drop('Cabin', axis=1)"
      ],
      "metadata": {
        "id": "gGdILgPHPgSk"
      },
      "execution_count": null,
      "outputs": []
    },
    {
      "cell_type": "markdown",
      "source": [
        "아까 임의로 만들었던 agemean도 삭제"
      ],
      "metadata": {
        "id": "u5gUPF_5PyTh"
      }
    },
    {
      "cell_type": "code",
      "source": [
        "train = train.drop('agemean', axis=1)"
      ],
      "metadata": {
        "id": "vfX5sG-xP0QK"
      },
      "execution_count": null,
      "outputs": []
    },
    {
      "cell_type": "markdown",
      "source": [
        "# **2. 파생변수 생성**\n",
        "# **2.1 Sibsb + Parch = Family**"
      ],
      "metadata": {
        "id": "0O8sq6RHRmRp"
      }
    },
    {
      "cell_type": "markdown",
      "source": [
        "앞 과정에서 혼자탓거나, 가족수(Family)가 4명이상이면 거의 사망한다는 결과를 보았다.\n",
        "\n",
        "Family변수를 생성하고, Sibsp와 Parch 변수는 일단 내비두는것이 좋을 것으로 보임."
      ],
      "metadata": {
        "id": "DfWfqjyERtbs"
      }
    },
    {
      "cell_type": "code",
      "source": [
        "train['Family'] = train['SibSp'] + train['Parch']\n",
        "#train = train.drop('SibSp', axis=1)\n",
        "#train = train.drop('Parch', axis=1)"
      ],
      "metadata": {
        "id": "tOl5zYs5RlyG"
      },
      "execution_count": null,
      "outputs": []
    },
    {
      "cell_type": "code",
      "source": [
        "train.info()"
      ],
      "metadata": {
        "colab": {
          "base_uri": "https://localhost:8080/"
        },
        "id": "mW2KmzKGSHra",
        "outputId": "b3e0d39c-dba8-4e3c-f114-bf16a4835615"
      },
      "execution_count": null,
      "outputs": [
        {
          "output_type": "stream",
          "name": "stdout",
          "text": [
            "<class 'pandas.core.frame.DataFrame'>\n",
            "RangeIndex: 891 entries, 0 to 890\n",
            "Data columns (total 12 columns):\n",
            " #   Column       Non-Null Count  Dtype  \n",
            "---  ------       --------------  -----  \n",
            " 0   PassengerId  891 non-null    int64  \n",
            " 1   Survived     891 non-null    int64  \n",
            " 2   Pclass       891 non-null    int64  \n",
            " 3   Name         891 non-null    object \n",
            " 4   Sex          891 non-null    object \n",
            " 5   Age          891 non-null    float64\n",
            " 6   SibSp        891 non-null    int64  \n",
            " 7   Parch        891 non-null    int64  \n",
            " 8   Ticket       891 non-null    object \n",
            " 9   Fare         891 non-null    float64\n",
            " 10  Embarked     891 non-null    object \n",
            " 11  Family       891 non-null    int64  \n",
            "dtypes: float64(2), int64(6), object(4)\n",
            "memory usage: 83.7+ KB\n"
          ]
        }
      ]
    },
    {
      "cell_type": "markdown",
      "source": [
        "# **2.2 동행자 유무 변수 train['JoinWith'] 추가**\n",
        "*   Family가 1 이상이면(동행자와 함께탑승) -> 1\n",
        "*   Family가 0 이면(동행자없이 혼자탑승) -> 0"
      ],
      "metadata": {
        "id": "e_jeAvFV5NPz"
      }
    },
    {
      "cell_type": "code",
      "source": [
        "train['JoinWith'] = 0\n",
        "# 'Family'가 1 이상인 행에 대해 'JoinWith'를 1로 설정\n",
        "train.loc[train['Family'] >= 1, 'JoinWith'] = 1"
      ],
      "metadata": {
        "id": "CX79r5hY5lqP"
      },
      "execution_count": null,
      "outputs": []
    },
    {
      "cell_type": "code",
      "source": [
        "train.head()"
      ],
      "metadata": {
        "colab": {
          "base_uri": "https://localhost:8080/",
          "height": 258
        },
        "id": "TrCc3ate7CyI",
        "outputId": "5d7b002f-f90b-4dd2-da99-4b0aa84a6c72"
      },
      "execution_count": null,
      "outputs": [
        {
          "output_type": "execute_result",
          "data": {
            "text/plain": [
              "   PassengerId  Survived  Pclass  \\\n",
              "0            1         0       3   \n",
              "1            2         1       1   \n",
              "2            3         1       3   \n",
              "3            4         1       1   \n",
              "4            5         0       3   \n",
              "\n",
              "                                                Name     Sex   Age  SibSp  \\\n",
              "0                            Braund, Mr. Owen Harris    male  22.0      1   \n",
              "1  Cumings, Mrs. John Bradley (Florence Briggs Th...  female  38.0      1   \n",
              "2                             Heikkinen, Miss. Laina  female  26.0      0   \n",
              "3       Futrelle, Mrs. Jacques Heath (Lily May Peel)  female  35.0      1   \n",
              "4                           Allen, Mr. William Henry    male  35.0      0   \n",
              "\n",
              "   Parch            Ticket     Fare Embarked  Family  JoinWith  \n",
              "0      0         A/5 21171   7.2500        S       1         1  \n",
              "1      0          PC 17599  71.2833        C       1         1  \n",
              "2      0  STON/O2. 3101282   7.9250        S       0         0  \n",
              "3      0            113803  53.1000        S       1         1  \n",
              "4      0            373450   8.0500        S       0         0  "
            ],
            "text/html": [
              "\n",
              "  <div id=\"df-3b744287-2722-4c7e-92ac-0d53cdf84111\" class=\"colab-df-container\">\n",
              "    <div>\n",
              "<style scoped>\n",
              "    .dataframe tbody tr th:only-of-type {\n",
              "        vertical-align: middle;\n",
              "    }\n",
              "\n",
              "    .dataframe tbody tr th {\n",
              "        vertical-align: top;\n",
              "    }\n",
              "\n",
              "    .dataframe thead th {\n",
              "        text-align: right;\n",
              "    }\n",
              "</style>\n",
              "<table border=\"1\" class=\"dataframe\">\n",
              "  <thead>\n",
              "    <tr style=\"text-align: right;\">\n",
              "      <th></th>\n",
              "      <th>PassengerId</th>\n",
              "      <th>Survived</th>\n",
              "      <th>Pclass</th>\n",
              "      <th>Name</th>\n",
              "      <th>Sex</th>\n",
              "      <th>Age</th>\n",
              "      <th>SibSp</th>\n",
              "      <th>Parch</th>\n",
              "      <th>Ticket</th>\n",
              "      <th>Fare</th>\n",
              "      <th>Embarked</th>\n",
              "      <th>Family</th>\n",
              "      <th>JoinWith</th>\n",
              "    </tr>\n",
              "  </thead>\n",
              "  <tbody>\n",
              "    <tr>\n",
              "      <th>0</th>\n",
              "      <td>1</td>\n",
              "      <td>0</td>\n",
              "      <td>3</td>\n",
              "      <td>Braund, Mr. Owen Harris</td>\n",
              "      <td>male</td>\n",
              "      <td>22.0</td>\n",
              "      <td>1</td>\n",
              "      <td>0</td>\n",
              "      <td>A/5 21171</td>\n",
              "      <td>7.2500</td>\n",
              "      <td>S</td>\n",
              "      <td>1</td>\n",
              "      <td>1</td>\n",
              "    </tr>\n",
              "    <tr>\n",
              "      <th>1</th>\n",
              "      <td>2</td>\n",
              "      <td>1</td>\n",
              "      <td>1</td>\n",
              "      <td>Cumings, Mrs. John Bradley (Florence Briggs Th...</td>\n",
              "      <td>female</td>\n",
              "      <td>38.0</td>\n",
              "      <td>1</td>\n",
              "      <td>0</td>\n",
              "      <td>PC 17599</td>\n",
              "      <td>71.2833</td>\n",
              "      <td>C</td>\n",
              "      <td>1</td>\n",
              "      <td>1</td>\n",
              "    </tr>\n",
              "    <tr>\n",
              "      <th>2</th>\n",
              "      <td>3</td>\n",
              "      <td>1</td>\n",
              "      <td>3</td>\n",
              "      <td>Heikkinen, Miss. Laina</td>\n",
              "      <td>female</td>\n",
              "      <td>26.0</td>\n",
              "      <td>0</td>\n",
              "      <td>0</td>\n",
              "      <td>STON/O2. 3101282</td>\n",
              "      <td>7.9250</td>\n",
              "      <td>S</td>\n",
              "      <td>0</td>\n",
              "      <td>0</td>\n",
              "    </tr>\n",
              "    <tr>\n",
              "      <th>3</th>\n",
              "      <td>4</td>\n",
              "      <td>1</td>\n",
              "      <td>1</td>\n",
              "      <td>Futrelle, Mrs. Jacques Heath (Lily May Peel)</td>\n",
              "      <td>female</td>\n",
              "      <td>35.0</td>\n",
              "      <td>1</td>\n",
              "      <td>0</td>\n",
              "      <td>113803</td>\n",
              "      <td>53.1000</td>\n",
              "      <td>S</td>\n",
              "      <td>1</td>\n",
              "      <td>1</td>\n",
              "    </tr>\n",
              "    <tr>\n",
              "      <th>4</th>\n",
              "      <td>5</td>\n",
              "      <td>0</td>\n",
              "      <td>3</td>\n",
              "      <td>Allen, Mr. William Henry</td>\n",
              "      <td>male</td>\n",
              "      <td>35.0</td>\n",
              "      <td>0</td>\n",
              "      <td>0</td>\n",
              "      <td>373450</td>\n",
              "      <td>8.0500</td>\n",
              "      <td>S</td>\n",
              "      <td>0</td>\n",
              "      <td>0</td>\n",
              "    </tr>\n",
              "  </tbody>\n",
              "</table>\n",
              "</div>\n",
              "    <div class=\"colab-df-buttons\">\n",
              "\n",
              "  <div class=\"colab-df-container\">\n",
              "    <button class=\"colab-df-convert\" onclick=\"convertToInteractive('df-3b744287-2722-4c7e-92ac-0d53cdf84111')\"\n",
              "            title=\"Convert this dataframe to an interactive table.\"\n",
              "            style=\"display:none;\">\n",
              "\n",
              "  <svg xmlns=\"http://www.w3.org/2000/svg\" height=\"24px\" viewBox=\"0 -960 960 960\">\n",
              "    <path d=\"M120-120v-720h720v720H120Zm60-500h600v-160H180v160Zm220 220h160v-160H400v160Zm0 220h160v-160H400v160ZM180-400h160v-160H180v160Zm440 0h160v-160H620v160ZM180-180h160v-160H180v160Zm440 0h160v-160H620v160Z\"/>\n",
              "  </svg>\n",
              "    </button>\n",
              "\n",
              "  <style>\n",
              "    .colab-df-container {\n",
              "      display:flex;\n",
              "      gap: 12px;\n",
              "    }\n",
              "\n",
              "    .colab-df-convert {\n",
              "      background-color: #E8F0FE;\n",
              "      border: none;\n",
              "      border-radius: 50%;\n",
              "      cursor: pointer;\n",
              "      display: none;\n",
              "      fill: #1967D2;\n",
              "      height: 32px;\n",
              "      padding: 0 0 0 0;\n",
              "      width: 32px;\n",
              "    }\n",
              "\n",
              "    .colab-df-convert:hover {\n",
              "      background-color: #E2EBFA;\n",
              "      box-shadow: 0px 1px 2px rgba(60, 64, 67, 0.3), 0px 1px 3px 1px rgba(60, 64, 67, 0.15);\n",
              "      fill: #174EA6;\n",
              "    }\n",
              "\n",
              "    .colab-df-buttons div {\n",
              "      margin-bottom: 4px;\n",
              "    }\n",
              "\n",
              "    [theme=dark] .colab-df-convert {\n",
              "      background-color: #3B4455;\n",
              "      fill: #D2E3FC;\n",
              "    }\n",
              "\n",
              "    [theme=dark] .colab-df-convert:hover {\n",
              "      background-color: #434B5C;\n",
              "      box-shadow: 0px 1px 3px 1px rgba(0, 0, 0, 0.15);\n",
              "      filter: drop-shadow(0px 1px 2px rgba(0, 0, 0, 0.3));\n",
              "      fill: #FFFFFF;\n",
              "    }\n",
              "  </style>\n",
              "\n",
              "    <script>\n",
              "      const buttonEl =\n",
              "        document.querySelector('#df-3b744287-2722-4c7e-92ac-0d53cdf84111 button.colab-df-convert');\n",
              "      buttonEl.style.display =\n",
              "        google.colab.kernel.accessAllowed ? 'block' : 'none';\n",
              "\n",
              "      async function convertToInteractive(key) {\n",
              "        const element = document.querySelector('#df-3b744287-2722-4c7e-92ac-0d53cdf84111');\n",
              "        const dataTable =\n",
              "          await google.colab.kernel.invokeFunction('convertToInteractive',\n",
              "                                                    [key], {});\n",
              "        if (!dataTable) return;\n",
              "\n",
              "        const docLinkHtml = 'Like what you see? Visit the ' +\n",
              "          '<a target=\"_blank\" href=https://colab.research.google.com/notebooks/data_table.ipynb>data table notebook</a>'\n",
              "          + ' to learn more about interactive tables.';\n",
              "        element.innerHTML = '';\n",
              "        dataTable['output_type'] = 'display_data';\n",
              "        await google.colab.output.renderOutput(dataTable, element);\n",
              "        const docLink = document.createElement('div');\n",
              "        docLink.innerHTML = docLinkHtml;\n",
              "        element.appendChild(docLink);\n",
              "      }\n",
              "    </script>\n",
              "  </div>\n",
              "\n",
              "\n",
              "<div id=\"df-c0c67a84-112d-4844-b631-0b9f556d309d\">\n",
              "  <button class=\"colab-df-quickchart\" onclick=\"quickchart('df-c0c67a84-112d-4844-b631-0b9f556d309d')\"\n",
              "            title=\"Suggest charts\"\n",
              "            style=\"display:none;\">\n",
              "\n",
              "<svg xmlns=\"http://www.w3.org/2000/svg\" height=\"24px\"viewBox=\"0 0 24 24\"\n",
              "     width=\"24px\">\n",
              "    <g>\n",
              "        <path d=\"M19 3H5c-1.1 0-2 .9-2 2v14c0 1.1.9 2 2 2h14c1.1 0 2-.9 2-2V5c0-1.1-.9-2-2-2zM9 17H7v-7h2v7zm4 0h-2V7h2v10zm4 0h-2v-4h2v4z\"/>\n",
              "    </g>\n",
              "</svg>\n",
              "  </button>\n",
              "\n",
              "<style>\n",
              "  .colab-df-quickchart {\n",
              "      --bg-color: #E8F0FE;\n",
              "      --fill-color: #1967D2;\n",
              "      --hover-bg-color: #E2EBFA;\n",
              "      --hover-fill-color: #174EA6;\n",
              "      --disabled-fill-color: #AAA;\n",
              "      --disabled-bg-color: #DDD;\n",
              "  }\n",
              "\n",
              "  [theme=dark] .colab-df-quickchart {\n",
              "      --bg-color: #3B4455;\n",
              "      --fill-color: #D2E3FC;\n",
              "      --hover-bg-color: #434B5C;\n",
              "      --hover-fill-color: #FFFFFF;\n",
              "      --disabled-bg-color: #3B4455;\n",
              "      --disabled-fill-color: #666;\n",
              "  }\n",
              "\n",
              "  .colab-df-quickchart {\n",
              "    background-color: var(--bg-color);\n",
              "    border: none;\n",
              "    border-radius: 50%;\n",
              "    cursor: pointer;\n",
              "    display: none;\n",
              "    fill: var(--fill-color);\n",
              "    height: 32px;\n",
              "    padding: 0;\n",
              "    width: 32px;\n",
              "  }\n",
              "\n",
              "  .colab-df-quickchart:hover {\n",
              "    background-color: var(--hover-bg-color);\n",
              "    box-shadow: 0 1px 2px rgba(60, 64, 67, 0.3), 0 1px 3px 1px rgba(60, 64, 67, 0.15);\n",
              "    fill: var(--button-hover-fill-color);\n",
              "  }\n",
              "\n",
              "  .colab-df-quickchart-complete:disabled,\n",
              "  .colab-df-quickchart-complete:disabled:hover {\n",
              "    background-color: var(--disabled-bg-color);\n",
              "    fill: var(--disabled-fill-color);\n",
              "    box-shadow: none;\n",
              "  }\n",
              "\n",
              "  .colab-df-spinner {\n",
              "    border: 2px solid var(--fill-color);\n",
              "    border-color: transparent;\n",
              "    border-bottom-color: var(--fill-color);\n",
              "    animation:\n",
              "      spin 1s steps(1) infinite;\n",
              "  }\n",
              "\n",
              "  @keyframes spin {\n",
              "    0% {\n",
              "      border-color: transparent;\n",
              "      border-bottom-color: var(--fill-color);\n",
              "      border-left-color: var(--fill-color);\n",
              "    }\n",
              "    20% {\n",
              "      border-color: transparent;\n",
              "      border-left-color: var(--fill-color);\n",
              "      border-top-color: var(--fill-color);\n",
              "    }\n",
              "    30% {\n",
              "      border-color: transparent;\n",
              "      border-left-color: var(--fill-color);\n",
              "      border-top-color: var(--fill-color);\n",
              "      border-right-color: var(--fill-color);\n",
              "    }\n",
              "    40% {\n",
              "      border-color: transparent;\n",
              "      border-right-color: var(--fill-color);\n",
              "      border-top-color: var(--fill-color);\n",
              "    }\n",
              "    60% {\n",
              "      border-color: transparent;\n",
              "      border-right-color: var(--fill-color);\n",
              "    }\n",
              "    80% {\n",
              "      border-color: transparent;\n",
              "      border-right-color: var(--fill-color);\n",
              "      border-bottom-color: var(--fill-color);\n",
              "    }\n",
              "    90% {\n",
              "      border-color: transparent;\n",
              "      border-bottom-color: var(--fill-color);\n",
              "    }\n",
              "  }\n",
              "</style>\n",
              "\n",
              "  <script>\n",
              "    async function quickchart(key) {\n",
              "      const quickchartButtonEl =\n",
              "        document.querySelector('#' + key + ' button');\n",
              "      quickchartButtonEl.disabled = true;  // To prevent multiple clicks.\n",
              "      quickchartButtonEl.classList.add('colab-df-spinner');\n",
              "      try {\n",
              "        const charts = await google.colab.kernel.invokeFunction(\n",
              "            'suggestCharts', [key], {});\n",
              "      } catch (error) {\n",
              "        console.error('Error during call to suggestCharts:', error);\n",
              "      }\n",
              "      quickchartButtonEl.classList.remove('colab-df-spinner');\n",
              "      quickchartButtonEl.classList.add('colab-df-quickchart-complete');\n",
              "    }\n",
              "    (() => {\n",
              "      let quickchartButtonEl =\n",
              "        document.querySelector('#df-c0c67a84-112d-4844-b631-0b9f556d309d button');\n",
              "      quickchartButtonEl.style.display =\n",
              "        google.colab.kernel.accessAllowed ? 'block' : 'none';\n",
              "    })();\n",
              "  </script>\n",
              "</div>\n",
              "    </div>\n",
              "  </div>\n"
            ]
          },
          "metadata": {},
          "execution_count": 95
        }
      ]
    },
    {
      "cell_type": "markdown",
      "source": [
        "잘 처리가 되었다."
      ],
      "metadata": {
        "id": "f6mLTf0s7I9z"
      }
    },
    {
      "cell_type": "markdown",
      "source": [
        "# **2.3 변수명 Name -> FamilyName으로 변경**\n",
        "Name변수에서 성씨만 남겨두도록 하겠다."
      ],
      "metadata": {
        "id": "p8ejh32yPkp2"
      }
    },
    {
      "cell_type": "code",
      "source": [
        "train['FamilyName'] = train['Name'].apply(lambda x: x.split(',')[0].strip())\n",
        "\n",
        "# 결과 확인\n",
        "print(train[['Name', 'FamilyName']])"
      ],
      "metadata": {
        "colab": {
          "base_uri": "https://localhost:8080/"
        },
        "id": "i8I-mOM2QEG4",
        "outputId": "506e40d8-a30c-4a32-efae-5d14542bc650"
      },
      "execution_count": null,
      "outputs": [
        {
          "output_type": "stream",
          "name": "stdout",
          "text": [
            "                                                  Name FamilyName\n",
            "0                              Braund, Mr. Owen Harris     Braund\n",
            "1    Cumings, Mrs. John Bradley (Florence Briggs Th...    Cumings\n",
            "2                               Heikkinen, Miss. Laina  Heikkinen\n",
            "3         Futrelle, Mrs. Jacques Heath (Lily May Peel)   Futrelle\n",
            "4                             Allen, Mr. William Henry      Allen\n",
            "..                                                 ...        ...\n",
            "886                              Montvila, Rev. Juozas   Montvila\n",
            "887                       Graham, Miss. Margaret Edith     Graham\n",
            "888           Johnston, Miss. Catherine Helen \"Carrie\"   Johnston\n",
            "889                              Behr, Mr. Karl Howell       Behr\n",
            "890                                Dooley, Mr. Patrick     Dooley\n",
            "\n",
            "[891 rows x 2 columns]\n"
          ]
        }
      ]
    },
    {
      "cell_type": "markdown",
      "source": [
        "# **2.4 Mr, Miss 이용해서 Title(호칭) 변수 생성**"
      ],
      "metadata": {
        "id": "UHrjJHrWYK-M"
      }
    },
    {
      "cell_type": "code",
      "source": [
        "import re\n",
        "\n",
        "train['Title'] = train['Name'].apply(lambda x: re.search(',\\s(.*?)\\.', x).group(1) if re.search(',\\s(.*?)\\.', x) else '')\n",
        "\n",
        "# 결과 확인\n",
        "print(train[['Name', 'Title']])"
      ],
      "metadata": {
        "colab": {
          "base_uri": "https://localhost:8080/"
        },
        "id": "b5ltLleJYXVI",
        "outputId": "f8ff13e5-426d-4a27-f744-e56700692daf"
      },
      "execution_count": null,
      "outputs": [
        {
          "output_type": "stream",
          "name": "stdout",
          "text": [
            "                                                  Name Title\n",
            "0                              Braund, Mr. Owen Harris    Mr\n",
            "1    Cumings, Mrs. John Bradley (Florence Briggs Th...   Mrs\n",
            "2                               Heikkinen, Miss. Laina  Miss\n",
            "3         Futrelle, Mrs. Jacques Heath (Lily May Peel)   Mrs\n",
            "4                             Allen, Mr. William Henry    Mr\n",
            "..                                                 ...   ...\n",
            "886                              Montvila, Rev. Juozas   Rev\n",
            "887                       Graham, Miss. Margaret Edith  Miss\n",
            "888           Johnston, Miss. Catherine Helen \"Carrie\"  Miss\n",
            "889                              Behr, Mr. Karl Howell    Mr\n",
            "890                                Dooley, Mr. Patrick    Mr\n",
            "\n",
            "[891 rows x 2 columns]\n"
          ]
        }
      ]
    },
    {
      "cell_type": "code",
      "source": [
        "train['Title'].value_counts()"
      ],
      "metadata": {
        "colab": {
          "base_uri": "https://localhost:8080/"
        },
        "id": "vO06uaNNagzi",
        "outputId": "5da6a2b6-85a1-46f6-b412-0d41d5f14655"
      },
      "execution_count": null,
      "outputs": [
        {
          "output_type": "execute_result",
          "data": {
            "text/plain": [
              "Mr              517\n",
              "Miss            182\n",
              "Mrs             125\n",
              "Master           40\n",
              "Dr                7\n",
              "Rev               6\n",
              "Mlle              2\n",
              "Major             2\n",
              "Col               2\n",
              "the Countess      1\n",
              "Capt              1\n",
              "Ms                1\n",
              "Sir               1\n",
              "Lady              1\n",
              "Mme               1\n",
              "Don               1\n",
              "Jonkheer          1\n",
              "Name: Title, dtype: int64"
            ]
          },
          "metadata": {},
          "execution_count": 99
        }
      ]
    },
    {
      "cell_type": "markdown",
      "source": [
        "Dr부터 Jonkheer은 개수가 매우 작다. 그래서 뭔지 찾아보았다.\n",
        "\n",
        "Dr = 박사 / Rev = 신부님 / Mlle = 아가씨 / Major = 소령 / Col = 대령 / the Countess = 백작부인 / Ms = miss / Capt = 캡틴 / Sir = Mr / Lady = miss / Mme = 마담(Mrs) / Don = Mr / Jonkheer = Mr\n",
        "\n",
        "test변수에는 확인해본 결과 Dona라는 title도 존재하였다. Dona = Mrs"
      ],
      "metadata": {
        "id": "FFu11NombO8l"
      }
    },
    {
      "cell_type": "markdown",
      "source": [
        "# **2.4.1 Title변수 값 축소화**"
      ],
      "metadata": {
        "id": "16R4Cshnch_D"
      }
    },
    {
      "cell_type": "code",
      "source": [
        "#Mlle, Ms, Lady -> Miss\n",
        "#the Countess, Mme, Dona -> Mrs\n",
        "#Dr, Rev, Major, Col, Capt, Sir, Don, Jonkheer -> Mr\n",
        "\n",
        "# 호칭 변경 규칙에 따라 새로운 'Title' 값을 생성\n",
        "title_mapping = {\n",
        "    'Mlle': 'Miss',\n",
        "    'Ms': 'Miss',\n",
        "    'Lady': 'Miss',\n",
        "    'the Countess': 'Mrs',\n",
        "    'Mme': 'Mrs',\n",
        "    'Dona': 'Mrs',\n",
        "    'Dr': 'Mr',\n",
        "    'Rev': 'Mr',\n",
        "    'Major': 'Mr',\n",
        "    'Col': 'Mr',\n",
        "    'Sir': 'Mr',\n",
        "    'Don': 'Mr',\n",
        "    'Jonkheer': 'Mr',\n",
        "    'Capt': 'Mr',\n",
        "}\n",
        "\n",
        "# 새로운 'Title' 값이 Mr, Mrs, Miss, Master가 아닌 경우에만 규칙에 따라 변경\n",
        "train['Title'] = train['Title'].apply(lambda x: title_mapping[x] if x not in ['Mr', 'Mrs', 'Miss', 'Master'] else x)"
      ],
      "metadata": {
        "id": "vN4zBDArcpCF"
      },
      "execution_count": null,
      "outputs": []
    },
    {
      "cell_type": "code",
      "source": [
        "train['Title'].value_counts()"
      ],
      "metadata": {
        "colab": {
          "base_uri": "https://localhost:8080/"
        },
        "id": "AyJzf64Wd7wL",
        "outputId": "8295f63a-2669-4ec8-fcea-1bb3b3b91751"
      },
      "execution_count": null,
      "outputs": [
        {
          "output_type": "execute_result",
          "data": {
            "text/plain": [
              "Mr        538\n",
              "Miss      186\n",
              "Mrs       127\n",
              "Master     40\n",
              "Name: Title, dtype: int64"
            ]
          },
          "metadata": {},
          "execution_count": 108
        }
      ]
    },
    {
      "cell_type": "markdown",
      "source": [
        "# **2.5 PassengerId, Name, Ticket변수 삭제**"
      ],
      "metadata": {
        "id": "OA-E-C-8YsAw"
      }
    },
    {
      "cell_type": "code",
      "source": [
        "train = train.drop('PassengerId', axis=1)"
      ],
      "metadata": {
        "id": "47oOBbxSYxg2"
      },
      "execution_count": null,
      "outputs": []
    },
    {
      "cell_type": "code",
      "source": [
        "train = train.drop('Name', axis=1)"
      ],
      "metadata": {
        "id": "k2YhN2o1llk4"
      },
      "execution_count": null,
      "outputs": []
    },
    {
      "cell_type": "code",
      "source": [
        "train = train.drop('Ticket', axis=1)"
      ],
      "metadata": {
        "id": "XyK47Q9MmqCn"
      },
      "execution_count": null,
      "outputs": []
    },
    {
      "cell_type": "markdown",
      "source": [
        "# **2.6 Baby변수 생성**\n",
        "아기 생존율이 높았다. 10세 이하는 모두 Baby=1로 처리 (최종에서는 5세 이하로 변경)"
      ],
      "metadata": {
        "id": "gp0JDEbVmz5T"
      }
    },
    {
      "cell_type": "code",
      "source": [
        "train['Baby'] = (train['Age'] < 10).astype(int)"
      ],
      "metadata": {
        "id": "J09lh4_pnY3P"
      },
      "execution_count": null,
      "outputs": []
    },
    {
      "cell_type": "markdown",
      "source": [
        "# **2.7 RichWoman변수 생성**\n",
        "1,2등석 여성은 거의 무조건 생존하는 시각화결과가 있었기 때문에 1과 0으로 판별"
      ],
      "metadata": {
        "id": "IjNHv14Tm-vH"
      }
    },
    {
      "cell_type": "code",
      "source": [
        "# \"RichWoman\" 변수 생성\n",
        "train['RichWoman'] = ((train['Pclass'].isin([1, 2])) & (train['Sex'] == 'female')).astype(int)"
      ],
      "metadata": {
        "id": "6Va4tX12mzoX"
      },
      "execution_count": null,
      "outputs": []
    },
    {
      "cell_type": "markdown",
      "source": [
        "# **2.8 BigFamily변수 생성**\n",
        "저번에 했던 시각화에서 Family변수가 4 이상이면 거의 사망하는 결과를 보여주었다. 4명이상이면 1을 할당하고 그 외의 값들은 0을 할당하는 변수 생성"
      ],
      "metadata": {
        "id": "1ZuaCIrXxDMC"
      }
    },
    {
      "cell_type": "code",
      "source": [
        "train['BigFamily'] = (train['Family'] >= 4).astype(int)"
      ],
      "metadata": {
        "colab": {
          "base_uri": "https://localhost:8080/"
        },
        "id": "vXSPVDVIw-qY",
        "outputId": "d6e8a16b-362f-4f5d-a416-f55f076d351e"
      },
      "execution_count": null,
      "outputs": [
        {
          "output_type": "stream",
          "name": "stdout",
          "text": [
            "     Family  BigFamily\n",
            "0         1          0\n",
            "1         1          0\n",
            "2         0          0\n",
            "3         1          0\n",
            "4         0          0\n",
            "..      ...        ...\n",
            "886       0          0\n",
            "887       0          0\n",
            "888       3          0\n",
            "889       0          0\n",
            "890       0          0\n",
            "\n",
            "[891 rows x 2 columns]\n"
          ]
        }
      ]
    },
    {
      "cell_type": "markdown",
      "source": [
        "# **3. object형 변수를 수치형으로 변환**"
      ],
      "metadata": {
        "id": "MrbYdbEIXmZF"
      }
    },
    {
      "cell_type": "markdown",
      "source": [
        "# **3.1 Sex변수를 0과 1로 바꾸어 주도록 하겠다.**"
      ],
      "metadata": {
        "id": "8S-89pXjTfDj"
      }
    },
    {
      "cell_type": "code",
      "source": [
        "train.replace({'male': 1, 'female': 0}, inplace=True)"
      ],
      "metadata": {
        "id": "oAtNqdRpTf_7"
      },
      "execution_count": null,
      "outputs": []
    },
    {
      "cell_type": "code",
      "source": [
        "train.tail()"
      ],
      "metadata": {
        "colab": {
          "base_uri": "https://localhost:8080/",
          "height": 206
        },
        "id": "PO-2sCt3Uu_M",
        "outputId": "091e34e6-be2e-4c09-ce46-757b517dadc4"
      },
      "execution_count": null,
      "outputs": [
        {
          "output_type": "execute_result",
          "data": {
            "text/plain": [
              "     PassengerId  Survived  Pclass  Sex   Age  SibSp  Parch      Fare  \\\n",
              "886          887         0       2    1  27.0      0      0  2.639057   \n",
              "887          888         1       1    0  19.0      0      0  3.433987   \n",
              "888          889         0       3    0  19.3      1      2  3.196630   \n",
              "889          890         1       1    1  26.0      0      0  3.433987   \n",
              "890          891         0       3    1  32.0      0      0  2.169054   \n",
              "\n",
              "    Embarked  Family  JoinWith FamilyName Title  Baby  RichWoman  \n",
              "886        S       0         0   Montvila    Mr     0          0  \n",
              "887        S       0         0     Graham  Miss     0          1  \n",
              "888        S       3         1   Johnston  Miss     0          0  \n",
              "889        C       0         0       Behr    Mr     0          0  \n",
              "890        Q       0         0     Dooley    Mr     0          0  "
            ],
            "text/html": [
              "\n",
              "  <div id=\"df-417e17b3-d587-4e30-8d4f-475144167277\" class=\"colab-df-container\">\n",
              "    <div>\n",
              "<style scoped>\n",
              "    .dataframe tbody tr th:only-of-type {\n",
              "        vertical-align: middle;\n",
              "    }\n",
              "\n",
              "    .dataframe tbody tr th {\n",
              "        vertical-align: top;\n",
              "    }\n",
              "\n",
              "    .dataframe thead th {\n",
              "        text-align: right;\n",
              "    }\n",
              "</style>\n",
              "<table border=\"1\" class=\"dataframe\">\n",
              "  <thead>\n",
              "    <tr style=\"text-align: right;\">\n",
              "      <th></th>\n",
              "      <th>PassengerId</th>\n",
              "      <th>Survived</th>\n",
              "      <th>Pclass</th>\n",
              "      <th>Sex</th>\n",
              "      <th>Age</th>\n",
              "      <th>SibSp</th>\n",
              "      <th>Parch</th>\n",
              "      <th>Fare</th>\n",
              "      <th>Embarked</th>\n",
              "      <th>Family</th>\n",
              "      <th>JoinWith</th>\n",
              "      <th>FamilyName</th>\n",
              "      <th>Title</th>\n",
              "      <th>Baby</th>\n",
              "      <th>RichWoman</th>\n",
              "    </tr>\n",
              "  </thead>\n",
              "  <tbody>\n",
              "    <tr>\n",
              "      <th>886</th>\n",
              "      <td>887</td>\n",
              "      <td>0</td>\n",
              "      <td>2</td>\n",
              "      <td>1</td>\n",
              "      <td>27.0</td>\n",
              "      <td>0</td>\n",
              "      <td>0</td>\n",
              "      <td>2.639057</td>\n",
              "      <td>S</td>\n",
              "      <td>0</td>\n",
              "      <td>0</td>\n",
              "      <td>Montvila</td>\n",
              "      <td>Mr</td>\n",
              "      <td>0</td>\n",
              "      <td>0</td>\n",
              "    </tr>\n",
              "    <tr>\n",
              "      <th>887</th>\n",
              "      <td>888</td>\n",
              "      <td>1</td>\n",
              "      <td>1</td>\n",
              "      <td>0</td>\n",
              "      <td>19.0</td>\n",
              "      <td>0</td>\n",
              "      <td>0</td>\n",
              "      <td>3.433987</td>\n",
              "      <td>S</td>\n",
              "      <td>0</td>\n",
              "      <td>0</td>\n",
              "      <td>Graham</td>\n",
              "      <td>Miss</td>\n",
              "      <td>0</td>\n",
              "      <td>1</td>\n",
              "    </tr>\n",
              "    <tr>\n",
              "      <th>888</th>\n",
              "      <td>889</td>\n",
              "      <td>0</td>\n",
              "      <td>3</td>\n",
              "      <td>0</td>\n",
              "      <td>19.3</td>\n",
              "      <td>1</td>\n",
              "      <td>2</td>\n",
              "      <td>3.196630</td>\n",
              "      <td>S</td>\n",
              "      <td>3</td>\n",
              "      <td>1</td>\n",
              "      <td>Johnston</td>\n",
              "      <td>Miss</td>\n",
              "      <td>0</td>\n",
              "      <td>0</td>\n",
              "    </tr>\n",
              "    <tr>\n",
              "      <th>889</th>\n",
              "      <td>890</td>\n",
              "      <td>1</td>\n",
              "      <td>1</td>\n",
              "      <td>1</td>\n",
              "      <td>26.0</td>\n",
              "      <td>0</td>\n",
              "      <td>0</td>\n",
              "      <td>3.433987</td>\n",
              "      <td>C</td>\n",
              "      <td>0</td>\n",
              "      <td>0</td>\n",
              "      <td>Behr</td>\n",
              "      <td>Mr</td>\n",
              "      <td>0</td>\n",
              "      <td>0</td>\n",
              "    </tr>\n",
              "    <tr>\n",
              "      <th>890</th>\n",
              "      <td>891</td>\n",
              "      <td>0</td>\n",
              "      <td>3</td>\n",
              "      <td>1</td>\n",
              "      <td>32.0</td>\n",
              "      <td>0</td>\n",
              "      <td>0</td>\n",
              "      <td>2.169054</td>\n",
              "      <td>Q</td>\n",
              "      <td>0</td>\n",
              "      <td>0</td>\n",
              "      <td>Dooley</td>\n",
              "      <td>Mr</td>\n",
              "      <td>0</td>\n",
              "      <td>0</td>\n",
              "    </tr>\n",
              "  </tbody>\n",
              "</table>\n",
              "</div>\n",
              "    <div class=\"colab-df-buttons\">\n",
              "\n",
              "  <div class=\"colab-df-container\">\n",
              "    <button class=\"colab-df-convert\" onclick=\"convertToInteractive('df-417e17b3-d587-4e30-8d4f-475144167277')\"\n",
              "            title=\"Convert this dataframe to an interactive table.\"\n",
              "            style=\"display:none;\">\n",
              "\n",
              "  <svg xmlns=\"http://www.w3.org/2000/svg\" height=\"24px\" viewBox=\"0 -960 960 960\">\n",
              "    <path d=\"M120-120v-720h720v720H120Zm60-500h600v-160H180v160Zm220 220h160v-160H400v160Zm0 220h160v-160H400v160ZM180-400h160v-160H180v160Zm440 0h160v-160H620v160ZM180-180h160v-160H180v160Zm440 0h160v-160H620v160Z\"/>\n",
              "  </svg>\n",
              "    </button>\n",
              "\n",
              "  <style>\n",
              "    .colab-df-container {\n",
              "      display:flex;\n",
              "      gap: 12px;\n",
              "    }\n",
              "\n",
              "    .colab-df-convert {\n",
              "      background-color: #E8F0FE;\n",
              "      border: none;\n",
              "      border-radius: 50%;\n",
              "      cursor: pointer;\n",
              "      display: none;\n",
              "      fill: #1967D2;\n",
              "      height: 32px;\n",
              "      padding: 0 0 0 0;\n",
              "      width: 32px;\n",
              "    }\n",
              "\n",
              "    .colab-df-convert:hover {\n",
              "      background-color: #E2EBFA;\n",
              "      box-shadow: 0px 1px 2px rgba(60, 64, 67, 0.3), 0px 1px 3px 1px rgba(60, 64, 67, 0.15);\n",
              "      fill: #174EA6;\n",
              "    }\n",
              "\n",
              "    .colab-df-buttons div {\n",
              "      margin-bottom: 4px;\n",
              "    }\n",
              "\n",
              "    [theme=dark] .colab-df-convert {\n",
              "      background-color: #3B4455;\n",
              "      fill: #D2E3FC;\n",
              "    }\n",
              "\n",
              "    [theme=dark] .colab-df-convert:hover {\n",
              "      background-color: #434B5C;\n",
              "      box-shadow: 0px 1px 3px 1px rgba(0, 0, 0, 0.15);\n",
              "      filter: drop-shadow(0px 1px 2px rgba(0, 0, 0, 0.3));\n",
              "      fill: #FFFFFF;\n",
              "    }\n",
              "  </style>\n",
              "\n",
              "    <script>\n",
              "      const buttonEl =\n",
              "        document.querySelector('#df-417e17b3-d587-4e30-8d4f-475144167277 button.colab-df-convert');\n",
              "      buttonEl.style.display =\n",
              "        google.colab.kernel.accessAllowed ? 'block' : 'none';\n",
              "\n",
              "      async function convertToInteractive(key) {\n",
              "        const element = document.querySelector('#df-417e17b3-d587-4e30-8d4f-475144167277');\n",
              "        const dataTable =\n",
              "          await google.colab.kernel.invokeFunction('convertToInteractive',\n",
              "                                                    [key], {});\n",
              "        if (!dataTable) return;\n",
              "\n",
              "        const docLinkHtml = 'Like what you see? Visit the ' +\n",
              "          '<a target=\"_blank\" href=https://colab.research.google.com/notebooks/data_table.ipynb>data table notebook</a>'\n",
              "          + ' to learn more about interactive tables.';\n",
              "        element.innerHTML = '';\n",
              "        dataTable['output_type'] = 'display_data';\n",
              "        await google.colab.output.renderOutput(dataTable, element);\n",
              "        const docLink = document.createElement('div');\n",
              "        docLink.innerHTML = docLinkHtml;\n",
              "        element.appendChild(docLink);\n",
              "      }\n",
              "    </script>\n",
              "  </div>\n",
              "\n",
              "\n",
              "<div id=\"df-4298d206-9127-4ec6-988e-89175661290e\">\n",
              "  <button class=\"colab-df-quickchart\" onclick=\"quickchart('df-4298d206-9127-4ec6-988e-89175661290e')\"\n",
              "            title=\"Suggest charts\"\n",
              "            style=\"display:none;\">\n",
              "\n",
              "<svg xmlns=\"http://www.w3.org/2000/svg\" height=\"24px\"viewBox=\"0 0 24 24\"\n",
              "     width=\"24px\">\n",
              "    <g>\n",
              "        <path d=\"M19 3H5c-1.1 0-2 .9-2 2v14c0 1.1.9 2 2 2h14c1.1 0 2-.9 2-2V5c0-1.1-.9-2-2-2zM9 17H7v-7h2v7zm4 0h-2V7h2v10zm4 0h-2v-4h2v4z\"/>\n",
              "    </g>\n",
              "</svg>\n",
              "  </button>\n",
              "\n",
              "<style>\n",
              "  .colab-df-quickchart {\n",
              "      --bg-color: #E8F0FE;\n",
              "      --fill-color: #1967D2;\n",
              "      --hover-bg-color: #E2EBFA;\n",
              "      --hover-fill-color: #174EA6;\n",
              "      --disabled-fill-color: #AAA;\n",
              "      --disabled-bg-color: #DDD;\n",
              "  }\n",
              "\n",
              "  [theme=dark] .colab-df-quickchart {\n",
              "      --bg-color: #3B4455;\n",
              "      --fill-color: #D2E3FC;\n",
              "      --hover-bg-color: #434B5C;\n",
              "      --hover-fill-color: #FFFFFF;\n",
              "      --disabled-bg-color: #3B4455;\n",
              "      --disabled-fill-color: #666;\n",
              "  }\n",
              "\n",
              "  .colab-df-quickchart {\n",
              "    background-color: var(--bg-color);\n",
              "    border: none;\n",
              "    border-radius: 50%;\n",
              "    cursor: pointer;\n",
              "    display: none;\n",
              "    fill: var(--fill-color);\n",
              "    height: 32px;\n",
              "    padding: 0;\n",
              "    width: 32px;\n",
              "  }\n",
              "\n",
              "  .colab-df-quickchart:hover {\n",
              "    background-color: var(--hover-bg-color);\n",
              "    box-shadow: 0 1px 2px rgba(60, 64, 67, 0.3), 0 1px 3px 1px rgba(60, 64, 67, 0.15);\n",
              "    fill: var(--button-hover-fill-color);\n",
              "  }\n",
              "\n",
              "  .colab-df-quickchart-complete:disabled,\n",
              "  .colab-df-quickchart-complete:disabled:hover {\n",
              "    background-color: var(--disabled-bg-color);\n",
              "    fill: var(--disabled-fill-color);\n",
              "    box-shadow: none;\n",
              "  }\n",
              "\n",
              "  .colab-df-spinner {\n",
              "    border: 2px solid var(--fill-color);\n",
              "    border-color: transparent;\n",
              "    border-bottom-color: var(--fill-color);\n",
              "    animation:\n",
              "      spin 1s steps(1) infinite;\n",
              "  }\n",
              "\n",
              "  @keyframes spin {\n",
              "    0% {\n",
              "      border-color: transparent;\n",
              "      border-bottom-color: var(--fill-color);\n",
              "      border-left-color: var(--fill-color);\n",
              "    }\n",
              "    20% {\n",
              "      border-color: transparent;\n",
              "      border-left-color: var(--fill-color);\n",
              "      border-top-color: var(--fill-color);\n",
              "    }\n",
              "    30% {\n",
              "      border-color: transparent;\n",
              "      border-left-color: var(--fill-color);\n",
              "      border-top-color: var(--fill-color);\n",
              "      border-right-color: var(--fill-color);\n",
              "    }\n",
              "    40% {\n",
              "      border-color: transparent;\n",
              "      border-right-color: var(--fill-color);\n",
              "      border-top-color: var(--fill-color);\n",
              "    }\n",
              "    60% {\n",
              "      border-color: transparent;\n",
              "      border-right-color: var(--fill-color);\n",
              "    }\n",
              "    80% {\n",
              "      border-color: transparent;\n",
              "      border-right-color: var(--fill-color);\n",
              "      border-bottom-color: var(--fill-color);\n",
              "    }\n",
              "    90% {\n",
              "      border-color: transparent;\n",
              "      border-bottom-color: var(--fill-color);\n",
              "    }\n",
              "  }\n",
              "</style>\n",
              "\n",
              "  <script>\n",
              "    async function quickchart(key) {\n",
              "      const quickchartButtonEl =\n",
              "        document.querySelector('#' + key + ' button');\n",
              "      quickchartButtonEl.disabled = true;  // To prevent multiple clicks.\n",
              "      quickchartButtonEl.classList.add('colab-df-spinner');\n",
              "      try {\n",
              "        const charts = await google.colab.kernel.invokeFunction(\n",
              "            'suggestCharts', [key], {});\n",
              "      } catch (error) {\n",
              "        console.error('Error during call to suggestCharts:', error);\n",
              "      }\n",
              "      quickchartButtonEl.classList.remove('colab-df-spinner');\n",
              "      quickchartButtonEl.classList.add('colab-df-quickchart-complete');\n",
              "    }\n",
              "    (() => {\n",
              "      let quickchartButtonEl =\n",
              "        document.querySelector('#df-4298d206-9127-4ec6-988e-89175661290e button');\n",
              "      quickchartButtonEl.style.display =\n",
              "        google.colab.kernel.accessAllowed ? 'block' : 'none';\n",
              "    })();\n",
              "  </script>\n",
              "</div>\n",
              "    </div>\n",
              "  </div>\n"
            ]
          },
          "metadata": {},
          "execution_count": 125
        }
      ]
    },
    {
      "cell_type": "markdown",
      "source": [
        "# **3.2 Embarked, Title 변수 수치화(one-hot encoding)**"
      ],
      "metadata": {
        "id": "c6zfZwtur6M9"
      }
    },
    {
      "cell_type": "code",
      "source": [
        "# 원-핫 인코딩 수행\n",
        "embarked_dummies = pd.get_dummies(train['Embarked'], prefix='Embarked')\n",
        "title_dummies = pd.get_dummies(train['Title'], prefix='Title')\n",
        "\n",
        "# 기존 데이터프레임에 원-핫 인코딩 결과를 병합\n",
        "train = pd.concat([train, embarked_dummies, title_dummies], axis=1)"
      ],
      "metadata": {
        "id": "B_dxR9A7sCEP"
      },
      "execution_count": null,
      "outputs": []
    },
    {
      "cell_type": "code",
      "source": [
        "#변수삭제\n",
        "train = train.drop('Embarked', axis=1)\n",
        "train = train.drop('Title', axis=1)"
      ],
      "metadata": {
        "id": "UsVSCmvss0BT"
      },
      "execution_count": null,
      "outputs": []
    },
    {
      "cell_type": "markdown",
      "source": [
        "# **3.3 Fare 변수 로그화**"
      ],
      "metadata": {
        "id": "Z2fdiw4-rBCP"
      }
    },
    {
      "cell_type": "code",
      "source": [
        "train['Fare'] = np.log1p(train['Fare'])"
      ],
      "metadata": {
        "id": "SHIST6_lrE6C"
      },
      "execution_count": null,
      "outputs": []
    },
    {
      "cell_type": "markdown",
      "source": [
        "**Survived와 모든 변수간 상관관계 확인**"
      ],
      "metadata": {
        "id": "8DTPHMCEUdG8"
      }
    },
    {
      "cell_type": "code",
      "source": [
        "train.corr().abs()[[\"Survived\"]]"
      ],
      "metadata": {
        "colab": {
          "base_uri": "https://localhost:8080/",
          "height": 702
        },
        "id": "CBvECoRCTQgg",
        "outputId": "c5074889-d754-4c9f-d4f8-79e70abfafac"
      },
      "execution_count": null,
      "outputs": [
        {
          "output_type": "stream",
          "name": "stderr",
          "text": [
            "<ipython-input-139-e8dde1afb5cf>:1: FutureWarning: The default value of numeric_only in DataFrame.corr is deprecated. In a future version, it will default to False. Select only valid columns or specify the value of numeric_only to silence this warning.\n",
            "  train.corr().abs()[[\"Survived\"]]\n"
          ]
        },
        {
          "output_type": "execute_result",
          "data": {
            "text/plain": [
              "              Survived\n",
              "Survived      1.000000\n",
              "Pclass        0.338481\n",
              "Sex           0.543351\n",
              "Age           0.080909\n",
              "SibSp         0.035322\n",
              "Parch         0.081629\n",
              "Fare          0.329862\n",
              "Family        0.016639\n",
              "JoinWith      0.203367\n",
              "Baby          0.128812\n",
              "RichWoman     0.562359\n",
              "Embarked_C    0.168240\n",
              "Embarked_Q    0.003650\n",
              "Embarked_S    0.149683\n",
              "Title_Master  0.085221\n",
              "Title_Miss    0.338468\n",
              "Title_Mr      0.563879\n",
              "Title_Mrs     0.344935\n",
              "BigFamily     0.125147"
            ],
            "text/html": [
              "\n",
              "  <div id=\"df-58d8d061-bde6-45d1-b66d-a4ffd148afad\" class=\"colab-df-container\">\n",
              "    <div>\n",
              "<style scoped>\n",
              "    .dataframe tbody tr th:only-of-type {\n",
              "        vertical-align: middle;\n",
              "    }\n",
              "\n",
              "    .dataframe tbody tr th {\n",
              "        vertical-align: top;\n",
              "    }\n",
              "\n",
              "    .dataframe thead th {\n",
              "        text-align: right;\n",
              "    }\n",
              "</style>\n",
              "<table border=\"1\" class=\"dataframe\">\n",
              "  <thead>\n",
              "    <tr style=\"text-align: right;\">\n",
              "      <th></th>\n",
              "      <th>Survived</th>\n",
              "    </tr>\n",
              "  </thead>\n",
              "  <tbody>\n",
              "    <tr>\n",
              "      <th>Survived</th>\n",
              "      <td>1.000000</td>\n",
              "    </tr>\n",
              "    <tr>\n",
              "      <th>Pclass</th>\n",
              "      <td>0.338481</td>\n",
              "    </tr>\n",
              "    <tr>\n",
              "      <th>Sex</th>\n",
              "      <td>0.543351</td>\n",
              "    </tr>\n",
              "    <tr>\n",
              "      <th>Age</th>\n",
              "      <td>0.080909</td>\n",
              "    </tr>\n",
              "    <tr>\n",
              "      <th>SibSp</th>\n",
              "      <td>0.035322</td>\n",
              "    </tr>\n",
              "    <tr>\n",
              "      <th>Parch</th>\n",
              "      <td>0.081629</td>\n",
              "    </tr>\n",
              "    <tr>\n",
              "      <th>Fare</th>\n",
              "      <td>0.329862</td>\n",
              "    </tr>\n",
              "    <tr>\n",
              "      <th>Family</th>\n",
              "      <td>0.016639</td>\n",
              "    </tr>\n",
              "    <tr>\n",
              "      <th>JoinWith</th>\n",
              "      <td>0.203367</td>\n",
              "    </tr>\n",
              "    <tr>\n",
              "      <th>Baby</th>\n",
              "      <td>0.128812</td>\n",
              "    </tr>\n",
              "    <tr>\n",
              "      <th>RichWoman</th>\n",
              "      <td>0.562359</td>\n",
              "    </tr>\n",
              "    <tr>\n",
              "      <th>Embarked_C</th>\n",
              "      <td>0.168240</td>\n",
              "    </tr>\n",
              "    <tr>\n",
              "      <th>Embarked_Q</th>\n",
              "      <td>0.003650</td>\n",
              "    </tr>\n",
              "    <tr>\n",
              "      <th>Embarked_S</th>\n",
              "      <td>0.149683</td>\n",
              "    </tr>\n",
              "    <tr>\n",
              "      <th>Title_Master</th>\n",
              "      <td>0.085221</td>\n",
              "    </tr>\n",
              "    <tr>\n",
              "      <th>Title_Miss</th>\n",
              "      <td>0.338468</td>\n",
              "    </tr>\n",
              "    <tr>\n",
              "      <th>Title_Mr</th>\n",
              "      <td>0.563879</td>\n",
              "    </tr>\n",
              "    <tr>\n",
              "      <th>Title_Mrs</th>\n",
              "      <td>0.344935</td>\n",
              "    </tr>\n",
              "    <tr>\n",
              "      <th>BigFamily</th>\n",
              "      <td>0.125147</td>\n",
              "    </tr>\n",
              "  </tbody>\n",
              "</table>\n",
              "</div>\n",
              "    <div class=\"colab-df-buttons\">\n",
              "\n",
              "  <div class=\"colab-df-container\">\n",
              "    <button class=\"colab-df-convert\" onclick=\"convertToInteractive('df-58d8d061-bde6-45d1-b66d-a4ffd148afad')\"\n",
              "            title=\"Convert this dataframe to an interactive table.\"\n",
              "            style=\"display:none;\">\n",
              "\n",
              "  <svg xmlns=\"http://www.w3.org/2000/svg\" height=\"24px\" viewBox=\"0 -960 960 960\">\n",
              "    <path d=\"M120-120v-720h720v720H120Zm60-500h600v-160H180v160Zm220 220h160v-160H400v160Zm0 220h160v-160H400v160ZM180-400h160v-160H180v160Zm440 0h160v-160H620v160ZM180-180h160v-160H180v160Zm440 0h160v-160H620v160Z\"/>\n",
              "  </svg>\n",
              "    </button>\n",
              "\n",
              "  <style>\n",
              "    .colab-df-container {\n",
              "      display:flex;\n",
              "      gap: 12px;\n",
              "    }\n",
              "\n",
              "    .colab-df-convert {\n",
              "      background-color: #E8F0FE;\n",
              "      border: none;\n",
              "      border-radius: 50%;\n",
              "      cursor: pointer;\n",
              "      display: none;\n",
              "      fill: #1967D2;\n",
              "      height: 32px;\n",
              "      padding: 0 0 0 0;\n",
              "      width: 32px;\n",
              "    }\n",
              "\n",
              "    .colab-df-convert:hover {\n",
              "      background-color: #E2EBFA;\n",
              "      box-shadow: 0px 1px 2px rgba(60, 64, 67, 0.3), 0px 1px 3px 1px rgba(60, 64, 67, 0.15);\n",
              "      fill: #174EA6;\n",
              "    }\n",
              "\n",
              "    .colab-df-buttons div {\n",
              "      margin-bottom: 4px;\n",
              "    }\n",
              "\n",
              "    [theme=dark] .colab-df-convert {\n",
              "      background-color: #3B4455;\n",
              "      fill: #D2E3FC;\n",
              "    }\n",
              "\n",
              "    [theme=dark] .colab-df-convert:hover {\n",
              "      background-color: #434B5C;\n",
              "      box-shadow: 0px 1px 3px 1px rgba(0, 0, 0, 0.15);\n",
              "      filter: drop-shadow(0px 1px 2px rgba(0, 0, 0, 0.3));\n",
              "      fill: #FFFFFF;\n",
              "    }\n",
              "  </style>\n",
              "\n",
              "    <script>\n",
              "      const buttonEl =\n",
              "        document.querySelector('#df-58d8d061-bde6-45d1-b66d-a4ffd148afad button.colab-df-convert');\n",
              "      buttonEl.style.display =\n",
              "        google.colab.kernel.accessAllowed ? 'block' : 'none';\n",
              "\n",
              "      async function convertToInteractive(key) {\n",
              "        const element = document.querySelector('#df-58d8d061-bde6-45d1-b66d-a4ffd148afad');\n",
              "        const dataTable =\n",
              "          await google.colab.kernel.invokeFunction('convertToInteractive',\n",
              "                                                    [key], {});\n",
              "        if (!dataTable) return;\n",
              "\n",
              "        const docLinkHtml = 'Like what you see? Visit the ' +\n",
              "          '<a target=\"_blank\" href=https://colab.research.google.com/notebooks/data_table.ipynb>data table notebook</a>'\n",
              "          + ' to learn more about interactive tables.';\n",
              "        element.innerHTML = '';\n",
              "        dataTable['output_type'] = 'display_data';\n",
              "        await google.colab.output.renderOutput(dataTable, element);\n",
              "        const docLink = document.createElement('div');\n",
              "        docLink.innerHTML = docLinkHtml;\n",
              "        element.appendChild(docLink);\n",
              "      }\n",
              "    </script>\n",
              "  </div>\n",
              "\n",
              "\n",
              "<div id=\"df-4f19c267-8a7e-4517-b3ca-7b5599daa87b\">\n",
              "  <button class=\"colab-df-quickchart\" onclick=\"quickchart('df-4f19c267-8a7e-4517-b3ca-7b5599daa87b')\"\n",
              "            title=\"Suggest charts\"\n",
              "            style=\"display:none;\">\n",
              "\n",
              "<svg xmlns=\"http://www.w3.org/2000/svg\" height=\"24px\"viewBox=\"0 0 24 24\"\n",
              "     width=\"24px\">\n",
              "    <g>\n",
              "        <path d=\"M19 3H5c-1.1 0-2 .9-2 2v14c0 1.1.9 2 2 2h14c1.1 0 2-.9 2-2V5c0-1.1-.9-2-2-2zM9 17H7v-7h2v7zm4 0h-2V7h2v10zm4 0h-2v-4h2v4z\"/>\n",
              "    </g>\n",
              "</svg>\n",
              "  </button>\n",
              "\n",
              "<style>\n",
              "  .colab-df-quickchart {\n",
              "      --bg-color: #E8F0FE;\n",
              "      --fill-color: #1967D2;\n",
              "      --hover-bg-color: #E2EBFA;\n",
              "      --hover-fill-color: #174EA6;\n",
              "      --disabled-fill-color: #AAA;\n",
              "      --disabled-bg-color: #DDD;\n",
              "  }\n",
              "\n",
              "  [theme=dark] .colab-df-quickchart {\n",
              "      --bg-color: #3B4455;\n",
              "      --fill-color: #D2E3FC;\n",
              "      --hover-bg-color: #434B5C;\n",
              "      --hover-fill-color: #FFFFFF;\n",
              "      --disabled-bg-color: #3B4455;\n",
              "      --disabled-fill-color: #666;\n",
              "  }\n",
              "\n",
              "  .colab-df-quickchart {\n",
              "    background-color: var(--bg-color);\n",
              "    border: none;\n",
              "    border-radius: 50%;\n",
              "    cursor: pointer;\n",
              "    display: none;\n",
              "    fill: var(--fill-color);\n",
              "    height: 32px;\n",
              "    padding: 0;\n",
              "    width: 32px;\n",
              "  }\n",
              "\n",
              "  .colab-df-quickchart:hover {\n",
              "    background-color: var(--hover-bg-color);\n",
              "    box-shadow: 0 1px 2px rgba(60, 64, 67, 0.3), 0 1px 3px 1px rgba(60, 64, 67, 0.15);\n",
              "    fill: var(--button-hover-fill-color);\n",
              "  }\n",
              "\n",
              "  .colab-df-quickchart-complete:disabled,\n",
              "  .colab-df-quickchart-complete:disabled:hover {\n",
              "    background-color: var(--disabled-bg-color);\n",
              "    fill: var(--disabled-fill-color);\n",
              "    box-shadow: none;\n",
              "  }\n",
              "\n",
              "  .colab-df-spinner {\n",
              "    border: 2px solid var(--fill-color);\n",
              "    border-color: transparent;\n",
              "    border-bottom-color: var(--fill-color);\n",
              "    animation:\n",
              "      spin 1s steps(1) infinite;\n",
              "  }\n",
              "\n",
              "  @keyframes spin {\n",
              "    0% {\n",
              "      border-color: transparent;\n",
              "      border-bottom-color: var(--fill-color);\n",
              "      border-left-color: var(--fill-color);\n",
              "    }\n",
              "    20% {\n",
              "      border-color: transparent;\n",
              "      border-left-color: var(--fill-color);\n",
              "      border-top-color: var(--fill-color);\n",
              "    }\n",
              "    30% {\n",
              "      border-color: transparent;\n",
              "      border-left-color: var(--fill-color);\n",
              "      border-top-color: var(--fill-color);\n",
              "      border-right-color: var(--fill-color);\n",
              "    }\n",
              "    40% {\n",
              "      border-color: transparent;\n",
              "      border-right-color: var(--fill-color);\n",
              "      border-top-color: var(--fill-color);\n",
              "    }\n",
              "    60% {\n",
              "      border-color: transparent;\n",
              "      border-right-color: var(--fill-color);\n",
              "    }\n",
              "    80% {\n",
              "      border-color: transparent;\n",
              "      border-right-color: var(--fill-color);\n",
              "      border-bottom-color: var(--fill-color);\n",
              "    }\n",
              "    90% {\n",
              "      border-color: transparent;\n",
              "      border-bottom-color: var(--fill-color);\n",
              "    }\n",
              "  }\n",
              "</style>\n",
              "\n",
              "  <script>\n",
              "    async function quickchart(key) {\n",
              "      const quickchartButtonEl =\n",
              "        document.querySelector('#' + key + ' button');\n",
              "      quickchartButtonEl.disabled = true;  // To prevent multiple clicks.\n",
              "      quickchartButtonEl.classList.add('colab-df-spinner');\n",
              "      try {\n",
              "        const charts = await google.colab.kernel.invokeFunction(\n",
              "            'suggestCharts', [key], {});\n",
              "      } catch (error) {\n",
              "        console.error('Error during call to suggestCharts:', error);\n",
              "      }\n",
              "      quickchartButtonEl.classList.remove('colab-df-spinner');\n",
              "      quickchartButtonEl.classList.add('colab-df-quickchart-complete');\n",
              "    }\n",
              "    (() => {\n",
              "      let quickchartButtonEl =\n",
              "        document.querySelector('#df-4f19c267-8a7e-4517-b3ca-7b5599daa87b button');\n",
              "      quickchartButtonEl.style.display =\n",
              "        google.colab.kernel.accessAllowed ? 'block' : 'none';\n",
              "    })();\n",
              "  </script>\n",
              "</div>\n",
              "    </div>\n",
              "  </div>\n"
            ]
          },
          "metadata": {},
          "execution_count": 139
        }
      ]
    },
    {
      "cell_type": "code",
      "source": [
        "#상관계수 히트맵 시각화\n",
        "sns.clustermap(train.corr(), annot = True, cmap = 'RdYlBu_r', vmin=-1, vmax=1, figsize=(12,12))"
      ],
      "metadata": {
        "colab": {
          "base_uri": "https://localhost:8080/",
          "height": 1000
        },
        "id": "42EI6lJVwEtg",
        "outputId": "bc84526b-6c27-474f-88d3-6720ca327ab7"
      },
      "execution_count": null,
      "outputs": [
        {
          "output_type": "stream",
          "name": "stderr",
          "text": [
            "<ipython-input-140-047caf667d6d>:2: FutureWarning: The default value of numeric_only in DataFrame.corr is deprecated. In a future version, it will default to False. Select only valid columns or specify the value of numeric_only to silence this warning.\n",
            "  sns.clustermap(train.corr(), annot = True, cmap = 'RdYlBu_r', vmin=-1, vmax=1, figsize=(12,12))\n"
          ]
        },
        {
          "output_type": "execute_result",
          "data": {
            "text/plain": [
              "<seaborn.matrix.ClusterGrid at 0x7f1e70156ec0>"
            ]
          },
          "metadata": {},
          "execution_count": 140
        },
        {
          "output_type": "display_data",
          "data": {
            "text/plain": [
              "<Figure size 1200x1200 with 4 Axes>"
            ],
            "image/png": "[encoded data removed]"
          },
          "metadata": {}
        }
      ]
    },
    {
      "cell_type": "markdown",
      "source": [
        "Title_Miss(0.34), Fare(0.33), Title_Mrs(0.34), RichWoman(0.56), Pclass(-0.34), Sex(-0.54), Title_Mr(0.56)"
      ],
      "metadata": {
        "id": "pwhTCQUKwXzW"
      }
    },
    {
      "cell_type": "markdown",
      "source": [
        "뭔가 파생변수를 한두개 더 만들어 볼 수 있을 것으로 보임. 더 생각해 봐야겠음."
      ],
      "metadata": {
        "id": "aV20NSbu37SK"
      }
    },
    {
      "cell_type": "markdown",
      "source": [
        "# **4. 변수선택알고리즘**"
      ],
      "metadata": {
        "id": "ahGa94cvuhYr"
      }
    },
    {
      "cell_type": "markdown",
      "source": [
        "귀찮아 모르겠음 졸림"
      ],
      "metadata": {
        "id": "gQHgDntG2rMj"
      }
    },
    {
      "cell_type": "code",
      "source": [],
      "metadata": {
        "id": "tud6hAfvug3s"
      },
      "execution_count": null,
      "outputs": []
    },
    {
      "cell_type": "markdown",
      "source": [
        "# **test데이터 전처리**\n",
        "위에서 한거 그대로 적용시켜야함!!!"
      ],
      "metadata": {
        "id": "Fg09dcD2UaAd"
      }
    },
    {
      "cell_type": "code",
      "source": [
        "test.info()"
      ],
      "metadata": {
        "colab": {
          "base_uri": "https://localhost:8080/"
        },
        "id": "Gqq-sLU27e09",
        "outputId": "eeb96a69-3e6d-40d3-9b21-bf3cb0034eb5"
      },
      "execution_count": null,
      "outputs": [
        {
          "output_type": "stream",
          "name": "stdout",
          "text": [
            "<class 'pandas.core.frame.DataFrame'>\n",
            "RangeIndex: 418 entries, 0 to 417\n",
            "Data columns (total 11 columns):\n",
            " #   Column       Non-Null Count  Dtype  \n",
            "---  ------       --------------  -----  \n",
            " 0   PassengerId  418 non-null    int64  \n",
            " 1   Pclass       418 non-null    int64  \n",
            " 2   Name         418 non-null    object \n",
            " 3   Sex          418 non-null    object \n",
            " 4   Age          332 non-null    float64\n",
            " 5   SibSp        418 non-null    int64  \n",
            " 6   Parch        418 non-null    int64  \n",
            " 7   Ticket       418 non-null    object \n",
            " 8   Fare         417 non-null    float64\n",
            " 9   Cabin        91 non-null     object \n",
            " 10  Embarked     418 non-null    object \n",
            "dtypes: float64(2), int64(4), object(5)\n",
            "memory usage: 36.0+ KB\n"
          ]
        }
      ]
    },
    {
      "cell_type": "markdown",
      "source": [
        "*   Age변수 - 결측치 86개\n",
        "*   Fare변수 - 결측치 1"
      ],
      "metadata": {
        "id": "JfMQC3tw7lyH"
      }
    },
    {
      "cell_type": "code",
      "source": [
        "missing_fare_rows = test[test['Fare'].isnull()]\n",
        "print(missing_fare_rows)"
      ],
      "metadata": {
        "colab": {
          "base_uri": "https://localhost:8080/"
        },
        "id": "XT9pHz-O8nxx",
        "outputId": "12419971-6dfa-4453-d65e-2878acaea264"
      },
      "execution_count": null,
      "outputs": [
        {
          "output_type": "stream",
          "name": "stdout",
          "text": [
            "     PassengerId  Pclass                Name   Sex   Age  SibSp  Parch Ticket  \\\n",
            "152         1044       3  Storey, Mr. Thomas  male  60.5      0      0   3701   \n",
            "\n",
            "     Fare Cabin Embarked  \n",
            "152   NaN   NaN        S  \n"
          ]
        }
      ]
    },
    {
      "cell_type": "markdown",
      "source": [
        "3등석이므로 3등석의 Fare값의 평균으로 대체하도록 하겠다. (13.6756)"
      ],
      "metadata": {
        "id": "tUUONusr8-no"
      }
    },
    {
      "cell_type": "code",
      "source": [
        "# Pclass가 3인 행들의 Fare 평균 계산\n",
        "average_fare_pclass3 = train[train['Pclass'] == 3]['Fare'].mean()\n",
        "print(round(average_fare_pclass3,4))"
      ],
      "metadata": {
        "colab": {
          "base_uri": "https://localhost:8080/"
        },
        "id": "Ry0fhw9p9Lln",
        "outputId": "ee35866d-165d-4196-9bfd-4cda15e652ad"
      },
      "execution_count": null,
      "outputs": [
        {
          "output_type": "stream",
          "name": "stdout",
          "text": [
            "13.6756\n"
          ]
        }
      ]
    },
    {
      "cell_type": "code",
      "source": [
        "# Fare 열의 결측치를 Pclass가 3인 Fare의 평균으로 대체\n",
        "test['Fare'].fillna(13.6756, inplace=True)"
      ],
      "metadata": {
        "id": "Ef567bdb9mLs"
      },
      "execution_count": null,
      "outputs": []
    },
    {
      "cell_type": "markdown",
      "source": [
        "# **아직 test데이터 전처리 안함!!!!!!!!!!!!!!!!!**\n",
        "Fare만 함"
      ],
      "metadata": {
        "id": "FL_QUauF2mYe"
      }
    },
    {
      "cell_type": "markdown",
      "source": [
        "# **5. Model 적용**"
      ],
      "metadata": {
        "id": "k3HfbJZMurO1"
      }
    },
    {
      "cell_type": "markdown",
      "source": [
        "K최근접이웃, 배깅-랜덤포레스트, 결정트리, 부스팅-아다부스트, 로지스틱회귀 ...etc 이용\n",
        "\n",
        "앞으로 더 찾아볼 예정"
      ],
      "metadata": {
        "id": "IhyrVCG-8nLp"
      }
    },
    {
      "cell_type": "markdown",
      "source": [
        "### **전처리 완료한 데이터 따로 저장??**"
      ],
      "metadata": {
        "id": "pOv9fAFfkXbr"
      }
    },
    {
      "cell_type": "markdown",
      "source": [
        "# **일단 그냥 모델 돌려봄**"
      ],
      "metadata": {
        "id": "jx8Yf3lnzkJk"
      }
    },
    {
      "cell_type": "code",
      "source": [
        "from sklearn import preprocessing\n",
        "\n",
        "titanic_df = train\n",
        "titanic_df = train.drop('FamilyName', axis=1) #일단 FamilyName변수는 삭제하고 진행\n",
        "\n",
        "y_titanic_df = titanic_df['Survived']\n",
        "X_titanic_df = titanic_df.drop('Survived', axis=1)\n",
        "\n",
        "from sklearn.model_selection import train_test_split\n",
        "\n",
        "X_train, X_test, y_train, y_test = train_test_split(X_titanic_df, y_titanic_df, test_size=0.2, random_state=11)"
      ],
      "metadata": {
        "id": "Hf_sS9B3yZEc"
      },
      "execution_count": null,
      "outputs": []
    },
    {
      "cell_type": "markdown",
      "source": [
        "## **결정 트리, 랜덤 포레스트, 로지스틱 회귀**"
      ],
      "metadata": {
        "id": "LlM9tJkA0IH_"
      }
    },
    {
      "cell_type": "code",
      "source": [
        "from sklearn.tree import DecisionTreeClassifier\n",
        "from sklearn.ensemble import RandomForestClassifier\n",
        "from sklearn.linear_model import LogisticRegression\n",
        "from sklearn.metrics import accuracy_score\n",
        "\n",
        "dt_clf = DecisionTreeClassifier(random_state=11)\n",
        "rf_clf = RandomForestClassifier(random_state=11)\n",
        "lr_clf = LogisticRegression()\n",
        "\n",
        "# DecisionTreeClassifier 학습/예측/평가\n",
        "dt_clf.fit(X_train, y_train)\n",
        "dt_pred = dt_clf.predict(X_test)\n",
        "print('DecisionTreeClassifier 정확도: {0:.4f}'.format(accuracy_score(y_test, dt_pred)))\n",
        "\n",
        "# RandomForestClassifier 학습/예측/평가\n",
        "rf_clf.fit(X_train, y_train)\n",
        "rf_pred = rf_clf.predict(X_test)\n",
        "print('RandomForestClassifier 정확도: {0:.4f}'.format(accuracy_score(y_test, rf_pred)))\n",
        "\n",
        "# LogisticRegression 학습/예측/평가\n",
        "lr_clf.fit(X_train, y_train)\n",
        "lr_pred = lr_clf.predict(X_test)\n",
        "print('LogisticRegression 정확도: {0:.4f}'.format(accuracy_score(y_test, lr_pred)))"
      ],
      "metadata": {
        "colab": {
          "base_uri": "https://localhost:8080/"
        },
        "id": "iwZxHKqVysqd",
        "outputId": "4b4ba49a-7d34-4acb-b4c2-3f9dddbf776a"
      },
      "execution_count": null,
      "outputs": [
        {
          "output_type": "stream",
          "name": "stdout",
          "text": [
            "DecisionTreeClassifier 정확도: 0.8212\n",
            "RandomForestClassifier 정확도: 0.8603\n",
            "LogisticRegression 정확도: 0.8883\n"
          ]
        },
        {
          "output_type": "stream",
          "name": "stderr",
          "text": [
            "/usr/local/lib/python3.10/dist-packages/sklearn/linear_model/_logistic.py:458: ConvergenceWarning: lbfgs failed to converge (status=1):\n",
            "STOP: TOTAL NO. of ITERATIONS REACHED LIMIT.\n",
            "\n",
            "Increase the number of iterations (max_iter) or scale the data as shown in:\n",
            "    https://scikit-learn.org/stable/modules/preprocessing.html\n",
            "Please also refer to the documentation for alternative solver options:\n",
            "    https://scikit-learn.org/stable/modules/linear_model.html#logistic-regression\n",
            "  n_iter_i = _check_optimize_result(\n"
          ]
        }
      ]
    },
    {
      "cell_type": "markdown",
      "source": [
        "와 0.88 ㅎ"
      ],
      "metadata": {
        "id": "Ul4u_1Cy0MHb"
      }
    },
    {
      "cell_type": "markdown",
      "source": [
        "# **K최근접이웃, 부스팅-아다부스트**"
      ],
      "metadata": {
        "id": "FSRBZMDY0iEo"
      }
    },
    {
      "cell_type": "code",
      "source": [
        "from sklearn.neighbors import KNeighborsClassifier\n",
        "from sklearn.ensemble import AdaBoostClassifier"
      ],
      "metadata": {
        "id": "hZCVOCfK2RS5"
      },
      "execution_count": null,
      "outputs": []
    },
    {
      "cell_type": "code",
      "source": [
        "knn_clf  = KNeighborsClassifier(n_neighbors=4)\n",
        "ada_clf = AdaBoostClassifier(n_estimators=100)\n",
        "\n",
        "#K최근접이웃\n",
        "knn_clf.fit(X_train, y_train)\n",
        "knn_pred = knn_clf.predict(X_test)\n",
        "print('knn 정확도: {0:.4f}'.format(accuracy_score(y_test, knn_pred)))\n",
        "\n",
        "#부스팅-아다부스트\n",
        "ada_clf.fit(X_train, y_train)\n",
        "ada_pred = ada_clf.predict(X_test)\n",
        "print('아다부스트 정확도: {0:.4f}'.format(accuracy_score(y_test, ada_pred)))"
      ],
      "metadata": {
        "colab": {
          "base_uri": "https://localhost:8080/"
        },
        "id": "MOxWlTwO0lIL",
        "outputId": "5f08c311-c54e-48f5-bf40-502bf767750e"
      },
      "execution_count": null,
      "outputs": [
        {
          "output_type": "stream",
          "name": "stdout",
          "text": [
            "knn 정확도: 0.8603\n",
            "아다부스트 정확도: 0.8659\n"
          ]
        }
      ]
    },
    {
      "cell_type": "markdown",
      "source": [
        "# **6. 성능평가**"
      ],
      "metadata": {
        "id": "QdlZ8n-Vuvwh"
      }
    },
    {
      "cell_type": "code",
      "source": [
        "from sklearn.metrics import accuracy_score, precision_score, recall_score, f1_score"
      ],
      "metadata": {
        "id": "7d0DhH741ZF9"
      },
      "execution_count": null,
      "outputs": []
    },
    {
      "cell_type": "code",
      "source": [
        "def eval_model(test_gths,test_preds):#accuracy, precision, recall, f1_score를 한번에 호출해주는 함수 제작\n",
        "  accuracy = accuracy_score(test_preds, test_gths)\n",
        "  precision = precision_score(test_gths, test_preds,average='macro')\n",
        "  recall = recall_score(test_gths, test_preds,average='macro')\n",
        "  f1 = f1_score(test_gths, test_preds,average='macro')\n",
        "\n",
        "  print(\"accuracy : {}, \\nprescision : {}\\nrecall : {}, \\nf1-score : {}\".format(accuracy,precision,recall,f1))"
      ],
      "metadata": {
        "id": "2yemzAOA07Uy"
      },
      "execution_count": null,
      "outputs": []
    },
    {
      "cell_type": "code",
      "source": [
        "print(\"결정트리\")\n",
        "eval_model(y_test, dt_pred)\n",
        "print(\"-----------------------------------------\")\n",
        "print(\"랜덤포레스트\")\n",
        "eval_model(y_test, rf_pred)\n",
        "print(\"-----------------------------------------\")\n",
        "print(\"로지스틱회귀\")\n",
        "eval_model(y_test, lr_pred)\n",
        "print(\"-----------------------------------------\")\n",
        "print(\"knn\")\n",
        "eval_model(y_test, knn_pred)\n",
        "print(\"-----------------------------------------\")\n",
        "print(\"아다부스트\")\n",
        "eval_model(y_test, ada_pred)\n",
        "print(\"-----------------------------------------\")"
      ],
      "metadata": {
        "colab": {
          "base_uri": "https://localhost:8080/"
        },
        "id": "DZYDf5oX0-X-",
        "outputId": "05511e81-c8a5-4bba-d153-29cb4e6958fd"
      },
      "execution_count": null,
      "outputs": [
        {
          "output_type": "stream",
          "name": "stdout",
          "text": [
            "결정트리\n",
            "accuracy : 0.8212290502793296, \n",
            "prescision : 0.801055848846902\n",
            "recall : 0.801055848846902, \n",
            "f1-score : 0.801055848846902\n",
            "-----------------------------------------\n",
            "랜덤포레스트\n",
            "accuracy : 0.8603351955307262, \n",
            "prescision : 0.8473211741236819\n",
            "recall : 0.8386357321478188, \n",
            "f1-score : 0.8426567279631518\n",
            "-----------------------------------------\n",
            "로지스틱회귀\n",
            "accuracy : 0.888268156424581, \n",
            "prescision : 0.8839442815249267\n",
            "recall : 0.8637816060016672, \n",
            "f1-score : 0.8724707893986892\n",
            "-----------------------------------------\n",
            "knn\n",
            "accuracy : 0.8603351955307262, \n",
            "prescision : 0.8704642039882314\n",
            "recall : 0.8148791330925257, \n",
            "f1-score : 0.8333767732807089\n",
            "-----------------------------------------\n",
            "아다부스트\n",
            "accuracy : 0.8659217877094972, \n",
            "prescision : 0.8695447409733124\n",
            "recall : 0.8270352875798833, \n",
            "f1-score : 0.8425219941348974\n",
            "-----------------------------------------\n"
          ]
        }
      ]
    }
  ]
}